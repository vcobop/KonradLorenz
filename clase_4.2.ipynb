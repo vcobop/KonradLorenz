{
 "cells": [
  {
   "cell_type": "code",
   "execution_count": 1,
   "metadata": {},
   "outputs": [],
   "source": [
    "data<-read.csv(\"counties.csv\")"
   ]
  },
  {
   "cell_type": "code",
   "execution_count": 2,
   "metadata": {},
   "outputs": [
    {
     "data": {
      "text/html": [
       "<table>\n",
       "<thead><tr><th scope=col>county</th><th scope=col>state</th><th scope=col>area</th><th scope=col>pop</th><th scope=col>p18_25</th><th scope=col>p65</th><th scope=col>nphysician</th><th scope=col>nhospbeds</th><th scope=col>phs</th><th scope=col>pcollege</th><th scope=col>ppoverty</th><th scope=col>punemployed</th><th scope=col>avg_income</th><th scope=col>tot_income</th><th scope=col>region</th><th scope=col>crime</th></tr></thead>\n",
       "<tbody>\n",
       "\t<tr><td>Los_Angeles   </td><td>CA            </td><td> 4060         </td><td>8863164       </td><td>32.1          </td><td> 9.7          </td><td>23677         </td><td>27700         </td><td>70.0          </td><td>22.3          </td><td>11.6          </td><td> 8.0          </td><td>20786         </td><td>184230        </td><td>4             </td><td> 77.73026     </td></tr>\n",
       "\t<tr><td>Cook          </td><td>IL            </td><td>  946         </td><td>5105067       </td><td>29.2          </td><td>12.4          </td><td>15153         </td><td>21550         </td><td>73.4          </td><td>22.8          </td><td>11.1          </td><td> 7.2          </td><td>21729         </td><td>110928        </td><td>2             </td><td> 85.58869     </td></tr>\n",
       "\t<tr><td>Harris        </td><td>TX            </td><td> 1729         </td><td>2818199       </td><td>31.3          </td><td> 7.1          </td><td> 7553         </td><td>12449         </td><td>74.9          </td><td>25.4          </td><td>12.5          </td><td> 5.7          </td><td>19517         </td><td> 55003        </td><td>3             </td><td> 89.96029     </td></tr>\n",
       "\t<tr><td>San_Diego     </td><td>CA            </td><td> 4205         </td><td>2498016       </td><td>33.5          </td><td>10.9          </td><td> 5905         </td><td> 6179         </td><td>81.9          </td><td>25.3          </td><td> 8.1          </td><td> 6.1          </td><td>19588         </td><td> 48931        </td><td>4             </td><td> 69.58362     </td></tr>\n",
       "\t<tr><td>Orange        </td><td>CA            </td><td>  790         </td><td>2410556       </td><td>32.6          </td><td> 9.2          </td><td> 6062         </td><td> 6369         </td><td>81.2          </td><td>27.8          </td><td> 5.2          </td><td> 4.8          </td><td>24400         </td><td> 58818        </td><td>4             </td><td> 59.95463     </td></tr>\n",
       "\t<tr><td>Kings         </td><td>NY            </td><td>   71         </td><td>2300664       </td><td>28.3          </td><td>12.4          </td><td> 4861         </td><td> 8942         </td><td>63.7          </td><td>16.6          </td><td>19.5          </td><td> 9.5          </td><td>16803         </td><td> 38658        </td><td>1             </td><td>295.98672     </td></tr>\n",
       "\t<tr><td>Maricopa      </td><td>AZ            </td><td> 9204         </td><td>2122101       </td><td>29.2          </td><td>12.5          </td><td> 4320         </td><td> 6104         </td><td>81.5          </td><td>22.1          </td><td> 8.8          </td><td> 4.9          </td><td>18042         </td><td> 38287        </td><td>4             </td><td> 83.68735     </td></tr>\n",
       "\t<tr><td>Wayne         </td><td>MI            </td><td>  614         </td><td>2111687       </td><td>27.4          </td><td>12.5          </td><td> 3823         </td><td> 9490         </td><td>70.0          </td><td>13.7          </td><td>16.9          </td><td>10.0          </td><td>17461         </td><td> 36872        </td><td>2             </td><td> 91.85926     </td></tr>\n",
       "\t<tr><td>Dade          </td><td>FL            </td><td> 1945         </td><td>1937094       </td><td>27.1          </td><td>13.9          </td><td> 6274         </td><td> 8840         </td><td>65.0          </td><td>18.8          </td><td>14.2          </td><td> 8.7          </td><td>17823         </td><td> 34525        </td><td>3             </td><td>126.33615     </td></tr>\n",
       "\t<tr><td>Dallas        </td><td>TX            </td><td>  880         </td><td>1852810       </td><td>32.6          </td><td> 8.2          </td><td> 4718         </td><td> 6934         </td><td>77.1          </td><td>26.3          </td><td>10.4          </td><td> 6.1          </td><td>21001         </td><td> 38911        </td><td>3             </td><td>115.63949     </td></tr>\n",
       "\t<tr><td>Philadelphia  </td><td>PA            </td><td>  135         </td><td>1585577       </td><td>29.1          </td><td>15.2          </td><td> 6641         </td><td>10494         </td><td>64.3          </td><td>15.2          </td><td>16.1          </td><td> 8.0          </td><td>16721         </td><td> 26512        </td><td>1             </td><td> 68.83803     </td></tr>\n",
       "\t<tr><td>King          </td><td>WA            </td><td> 2126         </td><td>1507319       </td><td>30.1          </td><td>11.1          </td><td> 5280         </td><td> 4009         </td><td>88.2          </td><td>32.8          </td><td> 5.0          </td><td> 4.6          </td><td>23779         </td><td> 35843        </td><td>4             </td><td> 82.90150     </td></tr>\n",
       "\t<tr><td>Santa_Clara   </td><td>CA            </td><td> 1291         </td><td>1497577       </td><td>32.6          </td><td> 8.7          </td><td> 4101         </td><td> 3342         </td><td>82.0          </td><td>32.6          </td><td> 5.0          </td><td> 5.5          </td><td>25193         </td><td> 37728        </td><td>4             </td><td> 51.42240     </td></tr>\n",
       "\t<tr><td>San_Bernardino</td><td>CA            </td><td>20062         </td><td>1418380       </td><td>30.1          </td><td> 8.8          </td><td> 2463         </td><td> 3349         </td><td>75.4          </td><td>14.9          </td><td>10.3          </td><td> 8.0          </td><td>16399         </td><td> 23260        </td><td>4             </td><td> 58.59502     </td></tr>\n",
       "\t<tr><td>Cuyahoga      </td><td>OH            </td><td>  458         </td><td>1412140       </td><td>26.3          </td><td>15.6          </td><td> 5620         </td><td> 8132         </td><td>74.0          </td><td>20.1          </td><td>11.0          </td><td> 5.5          </td><td>21086         </td><td> 29776        </td><td>2             </td><td> 51.80081     </td></tr>\n",
       "\t<tr><td>Middlesex     </td><td>MA            </td><td>  824         </td><td>1398468       </td><td>31.7          </td><td>12.5          </td><td> 5158         </td><td> 4152         </td><td>84.3          </td><td>35.4          </td><td> 4.2          </td><td> 7.3          </td><td>25312         </td><td> 35398        </td><td>1             </td><td> 25.61732     </td></tr>\n",
       "\t<tr><td>Allegheny     </td><td>PA            </td><td>  730         </td><td>1336449       </td><td>26.2          </td><td>17.4          </td><td> 5281         </td><td> 8436         </td><td>79.0          </td><td>22.6          </td><td> 8.7          </td><td> 5.3          </td><td>20681         </td><td> 27639        </td><td>1             </td><td> 37.55175     </td></tr>\n",
       "\t<tr><td>Suffolk       </td><td>NY            </td><td>  911         </td><td>1321864       </td><td>27.9          </td><td>10.8          </td><td> 3021         </td><td> 3904         </td><td>82.2          </td><td>23.0          </td><td> 3.3          </td><td> 7.0          </td><td>24262         </td><td> 32071        </td><td>1             </td><td> 50.47645     </td></tr>\n",
       "\t<tr><td>Nassau        </td><td>NY            </td><td>  287         </td><td>1287348       </td><td>25.7          </td><td>14.2          </td><td> 6147         </td><td> 5200         </td><td>84.2          </td><td>30.0          </td><td> 2.5          </td><td> 5.1          </td><td>31679         </td><td> 40782        </td><td>1             </td><td> 33.55969     </td></tr>\n",
       "\t<tr><td>Alameda       </td><td>CA            </td><td>  738         </td><td>1279182       </td><td>30.8          </td><td>10.6          </td><td> 3169         </td><td> 3284         </td><td>81.4          </td><td>28.8          </td><td> 8.1          </td><td> 5.3          </td><td>22148         </td><td> 28331        </td><td>4             </td><td> 83.91144     </td></tr>\n",
       "\t<tr><td>Broward       </td><td>FL            </td><td> 1209         </td><td>1255488       </td><td>25.3          </td><td>20.7          </td><td> 2456         </td><td> 5543         </td><td>76.8          </td><td>18.8          </td><td> 7.1          </td><td> 7.4          </td><td>22355         </td><td> 28066        </td><td>3             </td><td> 85.53327     </td></tr>\n",
       "\t<tr><td>Bexar         </td><td>TX            </td><td> 1247         </td><td>1185394       </td><td>29.5          </td><td> 9.9          </td><td> 3062         </td><td> 4086         </td><td>72.7          </td><td>19.7          </td><td>16.2          </td><td> 6.7          </td><td>15508         </td><td> 18383        </td><td>3             </td><td>112.28165     </td></tr>\n",
       "\t<tr><td>Riverside     </td><td>CA            </td><td> 7208         </td><td>1170413       </td><td>27.9          </td><td>13.2          </td><td> 1385         </td><td> 2435         </td><td>74.1          </td><td>14.6          </td><td> 8.4          </td><td>10.7          </td><td>17185         </td><td> 20114        </td><td>4             </td><td> 81.59000     </td></tr>\n",
       "\t<tr><td>Tarrant       </td><td>TX            </td><td>  864         </td><td>1170103       </td><td>32.2          </td><td> 8.3          </td><td> 1677         </td><td> 3672         </td><td>79.9          </td><td>24.0          </td><td> 8.2          </td><td> 6.6          </td><td>18825         </td><td> 22027        </td><td>3             </td><td>113.23362     </td></tr>\n",
       "\t<tr><td>Oakland       </td><td>MI            </td><td>  873         </td><td>1083592       </td><td>27.6          </td><td>10.9          </td><td> 4020         </td><td> 3254         </td><td>84.6          </td><td>30.2          </td><td> 4.4          </td><td> 7.3          </td><td>26884         </td><td> 29131        </td><td>2             </td><td> 47.03246     </td></tr>\n",
       "\t<tr><td>Sacramento    </td><td>CA            </td><td>  966         </td><td>1041219       </td><td>29.7          </td><td>10.6          </td><td> 2464         </td><td> 2855         </td><td>82.2          </td><td>23.0          </td><td> 9.8          </td><td> 6.3          </td><td>18934         </td><td> 19714        </td><td>4             </td><td> 80.96760     </td></tr>\n",
       "\t<tr><td>Hennepin      </td><td>MN            </td><td>  557         </td><td>1032431       </td><td>31.6          </td><td>11.3          </td><td> 3706         </td><td> 5395         </td><td>88.2          </td><td>31.6          </td><td> 6.4          </td><td> 4.3          </td><td>23705         </td><td> 24474        </td><td>2             </td><td> 69.49908     </td></tr>\n",
       "\t<tr><td>St._Louis     </td><td>MO            </td><td>  508         </td><td> 993529       </td><td>26.1          </td><td>13.1          </td><td> 1194         </td><td> 1056         </td><td>82.3          </td><td>29.2          </td><td> 4.0          </td><td> 5.1          </td><td>24219         </td><td> 24062        </td><td>2             </td><td> 42.87243     </td></tr>\n",
       "\t<tr><td>Erie          </td><td>NY            </td><td> 1045         </td><td> 968532       </td><td>27.3          </td><td>15.2          </td><td> 2748         </td><td> 4632         </td><td>76.4          </td><td>20.0          </td><td> 9.4          </td><td> 6.8          </td><td>18305         </td><td> 17729        </td><td>1             </td><td> 57.10291     </td></tr>\n",
       "\t<tr><td>Franklin      </td><td>OH            </td><td>  540         </td><td> 961437       </td><td>33.5          </td><td> 9.6          </td><td> 2675         </td><td> 4011         </td><td>81.0          </td><td>26.6          </td><td> 9.1          </td><td> 4.2          </td><td>19040         </td><td> 18306        </td><td>2             </td><td> 85.99627     </td></tr>\n",
       "\t<tr><td>⋮</td><td>⋮</td><td>⋮</td><td>⋮</td><td>⋮</td><td>⋮</td><td>⋮</td><td>⋮</td><td>⋮</td><td>⋮</td><td>⋮</td><td>⋮</td><td>⋮</td><td>⋮</td><td>⋮</td><td>⋮</td></tr>\n",
       "\t<tr><td>Osceola     </td><td>FL          </td><td>1322        </td><td>107728      </td><td>27.1        </td><td>13.9        </td><td>  98        </td><td> 291        </td><td>73.7        </td><td>11.2        </td><td> 6.9        </td><td> 6.7        </td><td>16451       </td><td>1772        </td><td>3           </td><td>89.716694   </td></tr>\n",
       "\t<tr><td>Yavapai     </td><td>AZ          </td><td>8124        </td><td>107714      </td><td>18.3        </td><td>23.8        </td><td> 114        </td><td> 159        </td><td>78.9        </td><td>17.7        </td><td> 9.8        </td><td> 5.4        </td><td>13681       </td><td>1474        </td><td>4           </td><td>36.689752   </td></tr>\n",
       "\t<tr><td>La_Porte    </td><td>IN          </td><td> 598        </td><td>107066      </td><td>26.0        </td><td>13.1        </td><td> 149        </td><td> 519        </td><td>73.9        </td><td>11.7        </td><td> 7.8        </td><td> 5.8        </td><td>16655       </td><td>1783        </td><td>2           </td><td>56.236340   </td></tr>\n",
       "\t<tr><td>La_Salle    </td><td>IL          </td><td>1135        </td><td>106913      </td><td>23.8        </td><td>17.2        </td><td> 104        </td><td> 504        </td><td>73.1        </td><td>10.5        </td><td> 8.7        </td><td> 9.6        </td><td>16119       </td><td>1723        </td><td>2           </td><td>27.891837   </td></tr>\n",
       "\t<tr><td>Yuma        </td><td>AZ          </td><td>5514        </td><td>106895      </td><td>27.4        </td><td>13.8        </td><td> 118        </td><td> 197        </td><td>64.9        </td><td>12.7        </td><td>15.4        </td><td>17.8        </td><td>11490       </td><td>1228        </td><td>4           </td><td>50.647832   </td></tr>\n",
       "\t<tr><td>Midland     </td><td>TX          </td><td> 900        </td><td>106611      </td><td>26.8        </td><td> 9.0        </td><td> 139        </td><td> 333        </td><td>76.8        </td><td>26.4        </td><td>11.5        </td><td> 5.4        </td><td>19345       </td><td>2062        </td><td>3           </td><td>70.780689   </td></tr>\n",
       "\t<tr><td>Randolph    </td><td>NC          </td><td> 788        </td><td>106546      </td><td>27.1        </td><td>12.2        </td><td>  69        </td><td> 145        </td><td>62.0        </td><td> 9.1        </td><td> 6.5        </td><td> 4.8        </td><td>14721       </td><td>1568        </td><td>3           </td><td>27.593715   </td></tr>\n",
       "\t<tr><td>Olmsted     </td><td>MN          </td><td> 653        </td><td>106470      </td><td>29.3        </td><td>10.0        </td><td>1814        </td><td>1437        </td><td>88.0        </td><td>29.5        </td><td> 4.5        </td><td> 3.3        </td><td>20515       </td><td>2184        </td><td>2           </td><td>40.480887   </td></tr>\n",
       "\t<tr><td>Vigo        </td><td>IN          </td><td> 403        </td><td>106107      </td><td>30.2        </td><td>15.1        </td><td> 179        </td><td> 576        </td><td>76.0        </td><td>18.1        </td><td>10.7        </td><td> 5.0        </td><td>15036       </td><td>1595        </td><td>2           </td><td>32.372982   </td></tr>\n",
       "\t<tr><td>Clay        </td><td>FL          </td><td> 601        </td><td>105986      </td><td>26.3        </td><td> 8.5        </td><td> 164        </td><td> 277        </td><td>81.2        </td><td>17.9        </td><td> 5.4        </td><td> 5.9        </td><td>16029       </td><td>1699        </td><td>3           </td><td>43.024550   </td></tr>\n",
       "\t<tr><td>Androscoggin</td><td>ME          </td><td> 470        </td><td>105259      </td><td>27.9        </td><td>13.4        </td><td> 198        </td><td> 527        </td><td>71.8        </td><td>12.6        </td><td> 8.7        </td><td> 9.7        </td><td>16154       </td><td>1700        </td><td>1           </td><td>38.191509   </td></tr>\n",
       "\t<tr><td>Robeson     </td><td>NC          </td><td> 949        </td><td>105179      </td><td>26.7        </td><td>10.7        </td><td>  83        </td><td> 281        </td><td>57.0        </td><td>11.0        </td><td>20.7        </td><td> 8.9        </td><td>10849       </td><td>1141        </td><td>3           </td><td>41.053823   </td></tr>\n",
       "\t<tr><td>Gregg       </td><td>TX          </td><td> 274        </td><td>104948      </td><td>26.4        </td><td>13.3        </td><td> 166        </td><td> 420        </td><td>75.8        </td><td>17.7        </td><td>13.4        </td><td> 8.2        </td><td>16775       </td><td>1761        </td><td>3           </td><td>87.481419   </td></tr>\n",
       "\t<tr><td>Wayne       </td><td>NC          </td><td> 553        </td><td>104666      </td><td>29.7        </td><td>10.2        </td><td> 113        </td><td> 263        </td><td>71.2        </td><td>12.7        </td><td>11.9        </td><td> 7.3        </td><td>13350       </td><td>1397        </td><td>3           </td><td>44.732769   </td></tr>\n",
       "\t<tr><td>Strafford   </td><td>NH          </td><td> 369        </td><td>104233      </td><td>34.8        </td><td>10.7        </td><td> 139        </td><td> 237        </td><td>79.8        </td><td>21.7        </td><td> 5.1        </td><td> 6.5        </td><td>17182       </td><td>1791        </td><td>1           </td><td>35.027295   </td></tr>\n",
       "\t<tr><td>Sheboygan   </td><td>WI          </td><td> 514        </td><td>103877      </td><td>25.4        </td><td>14.6        </td><td> 114        </td><td> 421        </td><td>77.4        </td><td>13.8        </td><td> 4.5        </td><td> 5.6        </td><td>18061       </td><td>1876        </td><td>2           </td><td>42.675472   </td></tr>\n",
       "\t<tr><td>Fairfield   </td><td>OH          </td><td> 506        </td><td>103461      </td><td>25.2        </td><td>11.3        </td><td>  86        </td><td> 195        </td><td>78.8        </td><td>15.5        </td><td> 6.8        </td><td> 6.3        </td><td>16342       </td><td>1691        </td><td>2           </td><td> 6.040924   </td></tr>\n",
       "\t<tr><td>Sumner      </td><td>TN          </td><td> 529        </td><td>103281      </td><td>25.5        </td><td>10.2        </td><td>  96        </td><td> 259        </td><td>70.6        </td><td>14.4        </td><td> 7.0        </td><td> 6.8        </td><td>16514       </td><td>1706        </td><td>3           </td><td>31.806431   </td></tr>\n",
       "\t<tr><td>Cass        </td><td>ND          </td><td>1766        </td><td>102874      </td><td>34.4        </td><td> 9.8        </td><td> 343        </td><td> 643        </td><td>87.1        </td><td>26.5        </td><td> 7.3        </td><td> 2.5        </td><td>16275       </td><td>1674        </td><td>2           </td><td>33.059860   </td></tr>\n",
       "\t<tr><td>Sumter      </td><td>SC          </td><td> 666        </td><td>102637      </td><td>31.6        </td><td> 9.4        </td><td>  88        </td><td> 214        </td><td>69.8        </td><td>15.0        </td><td>16.9        </td><td> 9.4        </td><td>11803       </td><td>1211        </td><td>3           </td><td>69.546070   </td></tr>\n",
       "\t<tr><td>Sarpy       </td><td>NE          </td><td> 241        </td><td>102583      </td><td>30.4        </td><td> 4.8        </td><td>  39        </td><td> 160        </td><td>91.0        </td><td>25.4        </td><td> 3.5        </td><td> 2.6        </td><td>16137       </td><td>1655        </td><td>2           </td><td>26.212920   </td></tr>\n",
       "\t<tr><td>Windham     </td><td>CT          </td><td> 513        </td><td>102525      </td><td>28.5        </td><td>12.5        </td><td> 123        </td><td> 254        </td><td>71.1        </td><td>16.8        </td><td> 6.0        </td><td> 9.2        </td><td>18070       </td><td>1853        </td><td>1           </td><td>13.625945   </td></tr>\n",
       "\t<tr><td>Kings       </td><td>CA          </td><td>1390        </td><td>101469      </td><td>33.7        </td><td> 7.7        </td><td>  82        </td><td> 180        </td><td>65.6        </td><td> 9.0        </td><td>15.0        </td><td>12.8        </td><td>13907       </td><td>1411        </td><td>4           </td><td>43.845904   </td></tr>\n",
       "\t<tr><td>Wayne       </td><td>OH          </td><td> 555        </td><td>101461      </td><td>26.3        </td><td>11.6        </td><td>  84        </td><td> 155        </td><td>73.6        </td><td>13.9        </td><td> 8.4        </td><td> 5.9        </td><td>16464       </td><td>1670        </td><td>2           </td><td>23.427721   </td></tr>\n",
       "\t<tr><td>Charles     </td><td>MD          </td><td> 461        </td><td>101154      </td><td>29.9        </td><td> 6.5        </td><td>  67        </td><td> 104        </td><td>81.0        </td><td>16.2        </td><td> 3.7        </td><td> 4.9        </td><td>19317       </td><td>1954        </td><td>3           </td><td>52.187753   </td></tr>\n",
       "\t<tr><td>Hernando    </td><td>FL          </td><td> 478        </td><td>101115      </td><td>16.4        </td><td>30.7        </td><td>  98        </td><td> 290        </td><td>70.5        </td><td> 9.7        </td><td> 7.9        </td><td> 8.2        </td><td>13919       </td><td>1407        </td><td>3           </td><td>43.653266   </td></tr>\n",
       "\t<tr><td>Martin      </td><td>FL          </td><td> 556        </td><td>100900      </td><td>20.4        </td><td>27.5        </td><td> 193        </td><td> 277        </td><td>79.7        </td><td>20.3        </td><td> 5.0        </td><td> 9.8        </td><td>27125       </td><td>2737        </td><td>3           </td><td>50.356789   </td></tr>\n",
       "\t<tr><td>Montgomery  </td><td>TN          </td><td> 539        </td><td>100498      </td><td>35.7        </td><td> 7.9        </td><td>  87        </td><td> 188        </td><td>77.9        </td><td>16.5        </td><td>10.8        </td><td> 8.0        </td><td>13169       </td><td>1323        </td><td>3           </td><td>65.046071   </td></tr>\n",
       "\t<tr><td>Maui        </td><td>HI          </td><td>1159        </td><td>100374      </td><td>26.2        </td><td>11.3        </td><td> 192        </td><td> 182        </td><td>77.0        </td><td>17.8        </td><td> 5.7        </td><td> 3.2        </td><td>18504       </td><td>1857        </td><td>4           </td><td>71.034332   </td></tr>\n",
       "\t<tr><td>Morgan      </td><td>AL          </td><td> 582        </td><td>100043      </td><td>26.3        </td><td>11.7        </td><td> 122        </td><td> 464        </td><td>69.4        </td><td>15.5        </td><td> 9.4        </td><td> 7.1        </td><td>16458       </td><td>1647        </td><td>3           </td><td>46.909829   </td></tr>\n",
       "</tbody>\n",
       "</table>\n"
      ],
      "text/latex": [
       "\\begin{tabular}{r|llllllllllllllll}\n",
       " county & state & area & pop & p18\\_25 & p65 & nphysician & nhospbeds & phs & pcollege & ppoverty & punemployed & avg\\_income & tot\\_income & region & crime\\\\\n",
       "\\hline\n",
       "\t Los\\_Angeles    & CA               &  4060            & 8863164          & 32.1             &  9.7             & 23677            & 27700            & 70.0             & 22.3             & 11.6             &  8.0             & 20786            & 184230           & 4                &  77.73026       \\\\\n",
       "\t Cook           & IL             &   946          & 5105067        & 29.2           & 12.4           & 15153          & 21550          & 73.4           & 22.8           & 11.1           &  7.2           & 21729          & 110928         & 2              &  85.58869     \\\\\n",
       "\t Harris         & TX             &  1729          & 2818199        & 31.3           &  7.1           &  7553          & 12449          & 74.9           & 25.4           & 12.5           &  5.7           & 19517          &  55003         & 3              &  89.96029     \\\\\n",
       "\t San\\_Diego      & CA               &  4205            & 2498016          & 33.5             & 10.9             &  5905            &  6179            & 81.9             & 25.3             &  8.1             &  6.1             & 19588            &  48931           & 4                &  69.58362       \\\\\n",
       "\t Orange         & CA             &   790          & 2410556        & 32.6           &  9.2           &  6062          &  6369          & 81.2           & 27.8           &  5.2           &  4.8           & 24400          &  58818         & 4              &  59.95463     \\\\\n",
       "\t Kings          & NY             &    71          & 2300664        & 28.3           & 12.4           &  4861          &  8942          & 63.7           & 16.6           & 19.5           &  9.5           & 16803          &  38658         & 1              & 295.98672     \\\\\n",
       "\t Maricopa       & AZ             &  9204          & 2122101        & 29.2           & 12.5           &  4320          &  6104          & 81.5           & 22.1           &  8.8           &  4.9           & 18042          &  38287         & 4              &  83.68735     \\\\\n",
       "\t Wayne          & MI             &   614          & 2111687        & 27.4           & 12.5           &  3823          &  9490          & 70.0           & 13.7           & 16.9           & 10.0           & 17461          &  36872         & 2              &  91.85926     \\\\\n",
       "\t Dade           & FL             &  1945          & 1937094        & 27.1           & 13.9           &  6274          &  8840          & 65.0           & 18.8           & 14.2           &  8.7           & 17823          &  34525         & 3              & 126.33615     \\\\\n",
       "\t Dallas         & TX             &   880          & 1852810        & 32.6           &  8.2           &  4718          &  6934          & 77.1           & 26.3           & 10.4           &  6.1           & 21001          &  38911         & 3              & 115.63949     \\\\\n",
       "\t Philadelphia   & PA             &   135          & 1585577        & 29.1           & 15.2           &  6641          & 10494          & 64.3           & 15.2           & 16.1           &  8.0           & 16721          &  26512         & 1              &  68.83803     \\\\\n",
       "\t King           & WA             &  2126          & 1507319        & 30.1           & 11.1           &  5280          &  4009          & 88.2           & 32.8           &  5.0           &  4.6           & 23779          &  35843         & 4              &  82.90150     \\\\\n",
       "\t Santa\\_Clara    & CA               &  1291            & 1497577          & 32.6             &  8.7             &  4101            &  3342            & 82.0             & 32.6             &  5.0             &  5.5             & 25193            &  37728           & 4                &  51.42240       \\\\\n",
       "\t San\\_Bernardino & CA               & 20062            & 1418380          & 30.1             &  8.8             &  2463            &  3349            & 75.4             & 14.9             & 10.3             &  8.0             & 16399            &  23260           & 4                &  58.59502       \\\\\n",
       "\t Cuyahoga       & OH             &   458          & 1412140        & 26.3           & 15.6           &  5620          &  8132          & 74.0           & 20.1           & 11.0           &  5.5           & 21086          &  29776         & 2              &  51.80081     \\\\\n",
       "\t Middlesex      & MA             &   824          & 1398468        & 31.7           & 12.5           &  5158          &  4152          & 84.3           & 35.4           &  4.2           &  7.3           & 25312          &  35398         & 1              &  25.61732     \\\\\n",
       "\t Allegheny      & PA             &   730          & 1336449        & 26.2           & 17.4           &  5281          &  8436          & 79.0           & 22.6           &  8.7           &  5.3           & 20681          &  27639         & 1              &  37.55175     \\\\\n",
       "\t Suffolk        & NY             &   911          & 1321864        & 27.9           & 10.8           &  3021          &  3904          & 82.2           & 23.0           &  3.3           &  7.0           & 24262          &  32071         & 1              &  50.47645     \\\\\n",
       "\t Nassau         & NY             &   287          & 1287348        & 25.7           & 14.2           &  6147          &  5200          & 84.2           & 30.0           &  2.5           &  5.1           & 31679          &  40782         & 1              &  33.55969     \\\\\n",
       "\t Alameda        & CA             &   738          & 1279182        & 30.8           & 10.6           &  3169          &  3284          & 81.4           & 28.8           &  8.1           &  5.3           & 22148          &  28331         & 4              &  83.91144     \\\\\n",
       "\t Broward        & FL             &  1209          & 1255488        & 25.3           & 20.7           &  2456          &  5543          & 76.8           & 18.8           &  7.1           &  7.4           & 22355          &  28066         & 3              &  85.53327     \\\\\n",
       "\t Bexar          & TX             &  1247          & 1185394        & 29.5           &  9.9           &  3062          &  4086          & 72.7           & 19.7           & 16.2           &  6.7           & 15508          &  18383         & 3              & 112.28165     \\\\\n",
       "\t Riverside      & CA             &  7208          & 1170413        & 27.9           & 13.2           &  1385          &  2435          & 74.1           & 14.6           &  8.4           & 10.7           & 17185          &  20114         & 4              &  81.59000     \\\\\n",
       "\t Tarrant        & TX             &   864          & 1170103        & 32.2           &  8.3           &  1677          &  3672          & 79.9           & 24.0           &  8.2           &  6.6           & 18825          &  22027         & 3              & 113.23362     \\\\\n",
       "\t Oakland        & MI             &   873          & 1083592        & 27.6           & 10.9           &  4020          &  3254          & 84.6           & 30.2           &  4.4           &  7.3           & 26884          &  29131         & 2              &  47.03246     \\\\\n",
       "\t Sacramento     & CA             &   966          & 1041219        & 29.7           & 10.6           &  2464          &  2855          & 82.2           & 23.0           &  9.8           &  6.3           & 18934          &  19714         & 4              &  80.96760     \\\\\n",
       "\t Hennepin       & MN             &   557          & 1032431        & 31.6           & 11.3           &  3706          &  5395          & 88.2           & 31.6           &  6.4           &  4.3           & 23705          &  24474         & 2              &  69.49908     \\\\\n",
       "\t St.\\_Louis      & MO               &   508            &  993529          & 26.1             & 13.1             &  1194            &  1056            & 82.3             & 29.2             &  4.0             &  5.1             & 24219            &  24062           & 2                &  42.87243       \\\\\n",
       "\t Erie           & NY             &  1045          &  968532        & 27.3           & 15.2           &  2748          &  4632          & 76.4           & 20.0           &  9.4           &  6.8           & 18305          &  17729         & 1              &  57.10291     \\\\\n",
       "\t Franklin       & OH             &   540          &  961437        & 33.5           &  9.6           &  2675          &  4011          & 81.0           & 26.6           &  9.1           &  4.2           & 19040          &  18306         & 2              &  85.99627     \\\\\n",
       "\t ⋮ & ⋮ & ⋮ & ⋮ & ⋮ & ⋮ & ⋮ & ⋮ & ⋮ & ⋮ & ⋮ & ⋮ & ⋮ & ⋮ & ⋮ & ⋮\\\\\n",
       "\t Osceola      & FL           & 1322         & 107728       & 27.1         & 13.9         &   98         &  291         & 73.7         & 11.2         &  6.9         &  6.7         & 16451        & 1772         & 3            & 89.716694   \\\\\n",
       "\t Yavapai      & AZ           & 8124         & 107714       & 18.3         & 23.8         &  114         &  159         & 78.9         & 17.7         &  9.8         &  5.4         & 13681        & 1474         & 4            & 36.689752   \\\\\n",
       "\t La\\_Porte     & IN             &  598           & 107066         & 26.0           & 13.1           &  149           &  519           & 73.9           & 11.7           &  7.8           &  5.8           & 16655          & 1783           & 2              & 56.236340     \\\\\n",
       "\t La\\_Salle     & IL             & 1135           & 106913         & 23.8           & 17.2           &  104           &  504           & 73.1           & 10.5           &  8.7           &  9.6           & 16119          & 1723           & 2              & 27.891837     \\\\\n",
       "\t Yuma         & AZ           & 5514         & 106895       & 27.4         & 13.8         &  118         &  197         & 64.9         & 12.7         & 15.4         & 17.8         & 11490        & 1228         & 4            & 50.647832   \\\\\n",
       "\t Midland      & TX           &  900         & 106611       & 26.8         &  9.0         &  139         &  333         & 76.8         & 26.4         & 11.5         &  5.4         & 19345        & 2062         & 3            & 70.780689   \\\\\n",
       "\t Randolph     & NC           &  788         & 106546       & 27.1         & 12.2         &   69         &  145         & 62.0         &  9.1         &  6.5         &  4.8         & 14721        & 1568         & 3            & 27.593715   \\\\\n",
       "\t Olmsted      & MN           &  653         & 106470       & 29.3         & 10.0         & 1814         & 1437         & 88.0         & 29.5         &  4.5         &  3.3         & 20515        & 2184         & 2            & 40.480887   \\\\\n",
       "\t Vigo         & IN           &  403         & 106107       & 30.2         & 15.1         &  179         &  576         & 76.0         & 18.1         & 10.7         &  5.0         & 15036        & 1595         & 2            & 32.372982   \\\\\n",
       "\t Clay         & FL           &  601         & 105986       & 26.3         &  8.5         &  164         &  277         & 81.2         & 17.9         &  5.4         &  5.9         & 16029        & 1699         & 3            & 43.024550   \\\\\n",
       "\t Androscoggin & ME           &  470         & 105259       & 27.9         & 13.4         &  198         &  527         & 71.8         & 12.6         &  8.7         &  9.7         & 16154        & 1700         & 1            & 38.191509   \\\\\n",
       "\t Robeson      & NC           &  949         & 105179       & 26.7         & 10.7         &   83         &  281         & 57.0         & 11.0         & 20.7         &  8.9         & 10849        & 1141         & 3            & 41.053823   \\\\\n",
       "\t Gregg        & TX           &  274         & 104948       & 26.4         & 13.3         &  166         &  420         & 75.8         & 17.7         & 13.4         &  8.2         & 16775        & 1761         & 3            & 87.481419   \\\\\n",
       "\t Wayne        & NC           &  553         & 104666       & 29.7         & 10.2         &  113         &  263         & 71.2         & 12.7         & 11.9         &  7.3         & 13350        & 1397         & 3            & 44.732769   \\\\\n",
       "\t Strafford    & NH           &  369         & 104233       & 34.8         & 10.7         &  139         &  237         & 79.8         & 21.7         &  5.1         &  6.5         & 17182        & 1791         & 1            & 35.027295   \\\\\n",
       "\t Sheboygan    & WI           &  514         & 103877       & 25.4         & 14.6         &  114         &  421         & 77.4         & 13.8         &  4.5         &  5.6         & 18061        & 1876         & 2            & 42.675472   \\\\\n",
       "\t Fairfield    & OH           &  506         & 103461       & 25.2         & 11.3         &   86         &  195         & 78.8         & 15.5         &  6.8         &  6.3         & 16342        & 1691         & 2            &  6.040924   \\\\\n",
       "\t Sumner       & TN           &  529         & 103281       & 25.5         & 10.2         &   96         &  259         & 70.6         & 14.4         &  7.0         &  6.8         & 16514        & 1706         & 3            & 31.806431   \\\\\n",
       "\t Cass         & ND           & 1766         & 102874       & 34.4         &  9.8         &  343         &  643         & 87.1         & 26.5         &  7.3         &  2.5         & 16275        & 1674         & 2            & 33.059860   \\\\\n",
       "\t Sumter       & SC           &  666         & 102637       & 31.6         &  9.4         &   88         &  214         & 69.8         & 15.0         & 16.9         &  9.4         & 11803        & 1211         & 3            & 69.546070   \\\\\n",
       "\t Sarpy        & NE           &  241         & 102583       & 30.4         &  4.8         &   39         &  160         & 91.0         & 25.4         &  3.5         &  2.6         & 16137        & 1655         & 2            & 26.212920   \\\\\n",
       "\t Windham      & CT           &  513         & 102525       & 28.5         & 12.5         &  123         &  254         & 71.1         & 16.8         &  6.0         &  9.2         & 18070        & 1853         & 1            & 13.625945   \\\\\n",
       "\t Kings        & CA           & 1390         & 101469       & 33.7         &  7.7         &   82         &  180         & 65.6         &  9.0         & 15.0         & 12.8         & 13907        & 1411         & 4            & 43.845904   \\\\\n",
       "\t Wayne        & OH           &  555         & 101461       & 26.3         & 11.6         &   84         &  155         & 73.6         & 13.9         &  8.4         &  5.9         & 16464        & 1670         & 2            & 23.427721   \\\\\n",
       "\t Charles      & MD           &  461         & 101154       & 29.9         &  6.5         &   67         &  104         & 81.0         & 16.2         &  3.7         &  4.9         & 19317        & 1954         & 3            & 52.187753   \\\\\n",
       "\t Hernando     & FL           &  478         & 101115       & 16.4         & 30.7         &   98         &  290         & 70.5         &  9.7         &  7.9         &  8.2         & 13919        & 1407         & 3            & 43.653266   \\\\\n",
       "\t Martin       & FL           &  556         & 100900       & 20.4         & 27.5         &  193         &  277         & 79.7         & 20.3         &  5.0         &  9.8         & 27125        & 2737         & 3            & 50.356789   \\\\\n",
       "\t Montgomery   & TN           &  539         & 100498       & 35.7         &  7.9         &   87         &  188         & 77.9         & 16.5         & 10.8         &  8.0         & 13169        & 1323         & 3            & 65.046071   \\\\\n",
       "\t Maui         & HI           & 1159         & 100374       & 26.2         & 11.3         &  192         &  182         & 77.0         & 17.8         &  5.7         &  3.2         & 18504        & 1857         & 4            & 71.034332   \\\\\n",
       "\t Morgan       & AL           &  582         & 100043       & 26.3         & 11.7         &  122         &  464         & 69.4         & 15.5         &  9.4         &  7.1         & 16458        & 1647         & 3            & 46.909829   \\\\\n",
       "\\end{tabular}\n"
      ],
      "text/markdown": [
       "\n",
       "county | state | area | pop | p18_25 | p65 | nphysician | nhospbeds | phs | pcollege | ppoverty | punemployed | avg_income | tot_income | region | crime | \n",
       "|---|---|---|---|---|---|---|---|---|---|---|---|---|---|---|---|---|---|---|---|---|---|---|---|---|---|---|---|---|---|---|---|---|---|---|---|---|---|---|---|---|---|---|---|---|---|---|---|---|---|---|---|---|---|---|---|---|---|---|---|---|\n",
       "| Los_Angeles    | CA             |  4060          | 8863164        | 32.1           |  9.7           | 23677          | 27700          | 70.0           | 22.3           | 11.6           |  8.0           | 20786          | 184230         | 4              |  77.73026      | \n",
       "| Cook           | IL             |   946          | 5105067        | 29.2           | 12.4           | 15153          | 21550          | 73.4           | 22.8           | 11.1           |  7.2           | 21729          | 110928         | 2              |  85.58869      | \n",
       "| Harris         | TX             |  1729          | 2818199        | 31.3           |  7.1           |  7553          | 12449          | 74.9           | 25.4           | 12.5           |  5.7           | 19517          |  55003         | 3              |  89.96029      | \n",
       "| San_Diego      | CA             |  4205          | 2498016        | 33.5           | 10.9           |  5905          |  6179          | 81.9           | 25.3           |  8.1           |  6.1           | 19588          |  48931         | 4              |  69.58362      | \n",
       "| Orange         | CA             |   790          | 2410556        | 32.6           |  9.2           |  6062          |  6369          | 81.2           | 27.8           |  5.2           |  4.8           | 24400          |  58818         | 4              |  59.95463      | \n",
       "| Kings          | NY             |    71          | 2300664        | 28.3           | 12.4           |  4861          |  8942          | 63.7           | 16.6           | 19.5           |  9.5           | 16803          |  38658         | 1              | 295.98672      | \n",
       "| Maricopa       | AZ             |  9204          | 2122101        | 29.2           | 12.5           |  4320          |  6104          | 81.5           | 22.1           |  8.8           |  4.9           | 18042          |  38287         | 4              |  83.68735      | \n",
       "| Wayne          | MI             |   614          | 2111687        | 27.4           | 12.5           |  3823          |  9490          | 70.0           | 13.7           | 16.9           | 10.0           | 17461          |  36872         | 2              |  91.85926      | \n",
       "| Dade           | FL             |  1945          | 1937094        | 27.1           | 13.9           |  6274          |  8840          | 65.0           | 18.8           | 14.2           |  8.7           | 17823          |  34525         | 3              | 126.33615      | \n",
       "| Dallas         | TX             |   880          | 1852810        | 32.6           |  8.2           |  4718          |  6934          | 77.1           | 26.3           | 10.4           |  6.1           | 21001          |  38911         | 3              | 115.63949      | \n",
       "| Philadelphia   | PA             |   135          | 1585577        | 29.1           | 15.2           |  6641          | 10494          | 64.3           | 15.2           | 16.1           |  8.0           | 16721          |  26512         | 1              |  68.83803      | \n",
       "| King           | WA             |  2126          | 1507319        | 30.1           | 11.1           |  5280          |  4009          | 88.2           | 32.8           |  5.0           |  4.6           | 23779          |  35843         | 4              |  82.90150      | \n",
       "| Santa_Clara    | CA             |  1291          | 1497577        | 32.6           |  8.7           |  4101          |  3342          | 82.0           | 32.6           |  5.0           |  5.5           | 25193          |  37728         | 4              |  51.42240      | \n",
       "| San_Bernardino | CA             | 20062          | 1418380        | 30.1           |  8.8           |  2463          |  3349          | 75.4           | 14.9           | 10.3           |  8.0           | 16399          |  23260         | 4              |  58.59502      | \n",
       "| Cuyahoga       | OH             |   458          | 1412140        | 26.3           | 15.6           |  5620          |  8132          | 74.0           | 20.1           | 11.0           |  5.5           | 21086          |  29776         | 2              |  51.80081      | \n",
       "| Middlesex      | MA             |   824          | 1398468        | 31.7           | 12.5           |  5158          |  4152          | 84.3           | 35.4           |  4.2           |  7.3           | 25312          |  35398         | 1              |  25.61732      | \n",
       "| Allegheny      | PA             |   730          | 1336449        | 26.2           | 17.4           |  5281          |  8436          | 79.0           | 22.6           |  8.7           |  5.3           | 20681          |  27639         | 1              |  37.55175      | \n",
       "| Suffolk        | NY             |   911          | 1321864        | 27.9           | 10.8           |  3021          |  3904          | 82.2           | 23.0           |  3.3           |  7.0           | 24262          |  32071         | 1              |  50.47645      | \n",
       "| Nassau         | NY             |   287          | 1287348        | 25.7           | 14.2           |  6147          |  5200          | 84.2           | 30.0           |  2.5           |  5.1           | 31679          |  40782         | 1              |  33.55969      | \n",
       "| Alameda        | CA             |   738          | 1279182        | 30.8           | 10.6           |  3169          |  3284          | 81.4           | 28.8           |  8.1           |  5.3           | 22148          |  28331         | 4              |  83.91144      | \n",
       "| Broward        | FL             |  1209          | 1255488        | 25.3           | 20.7           |  2456          |  5543          | 76.8           | 18.8           |  7.1           |  7.4           | 22355          |  28066         | 3              |  85.53327      | \n",
       "| Bexar          | TX             |  1247          | 1185394        | 29.5           |  9.9           |  3062          |  4086          | 72.7           | 19.7           | 16.2           |  6.7           | 15508          |  18383         | 3              | 112.28165      | \n",
       "| Riverside      | CA             |  7208          | 1170413        | 27.9           | 13.2           |  1385          |  2435          | 74.1           | 14.6           |  8.4           | 10.7           | 17185          |  20114         | 4              |  81.59000      | \n",
       "| Tarrant        | TX             |   864          | 1170103        | 32.2           |  8.3           |  1677          |  3672          | 79.9           | 24.0           |  8.2           |  6.6           | 18825          |  22027         | 3              | 113.23362      | \n",
       "| Oakland        | MI             |   873          | 1083592        | 27.6           | 10.9           |  4020          |  3254          | 84.6           | 30.2           |  4.4           |  7.3           | 26884          |  29131         | 2              |  47.03246      | \n",
       "| Sacramento     | CA             |   966          | 1041219        | 29.7           | 10.6           |  2464          |  2855          | 82.2           | 23.0           |  9.8           |  6.3           | 18934          |  19714         | 4              |  80.96760      | \n",
       "| Hennepin       | MN             |   557          | 1032431        | 31.6           | 11.3           |  3706          |  5395          | 88.2           | 31.6           |  6.4           |  4.3           | 23705          |  24474         | 2              |  69.49908      | \n",
       "| St._Louis      | MO             |   508          |  993529        | 26.1           | 13.1           |  1194          |  1056          | 82.3           | 29.2           |  4.0           |  5.1           | 24219          |  24062         | 2              |  42.87243      | \n",
       "| Erie           | NY             |  1045          |  968532        | 27.3           | 15.2           |  2748          |  4632          | 76.4           | 20.0           |  9.4           |  6.8           | 18305          |  17729         | 1              |  57.10291      | \n",
       "| Franklin       | OH             |   540          |  961437        | 33.5           |  9.6           |  2675          |  4011          | 81.0           | 26.6           |  9.1           |  4.2           | 19040          |  18306         | 2              |  85.99627      | \n",
       "| ⋮ | ⋮ | ⋮ | ⋮ | ⋮ | ⋮ | ⋮ | ⋮ | ⋮ | ⋮ | ⋮ | ⋮ | ⋮ | ⋮ | ⋮ | ⋮ | \n",
       "| Osceola      | FL           | 1322         | 107728       | 27.1         | 13.9         |   98         |  291         | 73.7         | 11.2         |  6.9         |  6.7         | 16451        | 1772         | 3            | 89.716694    | \n",
       "| Yavapai      | AZ           | 8124         | 107714       | 18.3         | 23.8         |  114         |  159         | 78.9         | 17.7         |  9.8         |  5.4         | 13681        | 1474         | 4            | 36.689752    | \n",
       "| La_Porte     | IN           |  598         | 107066       | 26.0         | 13.1         |  149         |  519         | 73.9         | 11.7         |  7.8         |  5.8         | 16655        | 1783         | 2            | 56.236340    | \n",
       "| La_Salle     | IL           | 1135         | 106913       | 23.8         | 17.2         |  104         |  504         | 73.1         | 10.5         |  8.7         |  9.6         | 16119        | 1723         | 2            | 27.891837    | \n",
       "| Yuma         | AZ           | 5514         | 106895       | 27.4         | 13.8         |  118         |  197         | 64.9         | 12.7         | 15.4         | 17.8         | 11490        | 1228         | 4            | 50.647832    | \n",
       "| Midland      | TX           |  900         | 106611       | 26.8         |  9.0         |  139         |  333         | 76.8         | 26.4         | 11.5         |  5.4         | 19345        | 2062         | 3            | 70.780689    | \n",
       "| Randolph     | NC           |  788         | 106546       | 27.1         | 12.2         |   69         |  145         | 62.0         |  9.1         |  6.5         |  4.8         | 14721        | 1568         | 3            | 27.593715    | \n",
       "| Olmsted      | MN           |  653         | 106470       | 29.3         | 10.0         | 1814         | 1437         | 88.0         | 29.5         |  4.5         |  3.3         | 20515        | 2184         | 2            | 40.480887    | \n",
       "| Vigo         | IN           |  403         | 106107       | 30.2         | 15.1         |  179         |  576         | 76.0         | 18.1         | 10.7         |  5.0         | 15036        | 1595         | 2            | 32.372982    | \n",
       "| Clay         | FL           |  601         | 105986       | 26.3         |  8.5         |  164         |  277         | 81.2         | 17.9         |  5.4         |  5.9         | 16029        | 1699         | 3            | 43.024550    | \n",
       "| Androscoggin | ME           |  470         | 105259       | 27.9         | 13.4         |  198         |  527         | 71.8         | 12.6         |  8.7         |  9.7         | 16154        | 1700         | 1            | 38.191509    | \n",
       "| Robeson      | NC           |  949         | 105179       | 26.7         | 10.7         |   83         |  281         | 57.0         | 11.0         | 20.7         |  8.9         | 10849        | 1141         | 3            | 41.053823    | \n",
       "| Gregg        | TX           |  274         | 104948       | 26.4         | 13.3         |  166         |  420         | 75.8         | 17.7         | 13.4         |  8.2         | 16775        | 1761         | 3            | 87.481419    | \n",
       "| Wayne        | NC           |  553         | 104666       | 29.7         | 10.2         |  113         |  263         | 71.2         | 12.7         | 11.9         |  7.3         | 13350        | 1397         | 3            | 44.732769    | \n",
       "| Strafford    | NH           |  369         | 104233       | 34.8         | 10.7         |  139         |  237         | 79.8         | 21.7         |  5.1         |  6.5         | 17182        | 1791         | 1            | 35.027295    | \n",
       "| Sheboygan    | WI           |  514         | 103877       | 25.4         | 14.6         |  114         |  421         | 77.4         | 13.8         |  4.5         |  5.6         | 18061        | 1876         | 2            | 42.675472    | \n",
       "| Fairfield    | OH           |  506         | 103461       | 25.2         | 11.3         |   86         |  195         | 78.8         | 15.5         |  6.8         |  6.3         | 16342        | 1691         | 2            |  6.040924    | \n",
       "| Sumner       | TN           |  529         | 103281       | 25.5         | 10.2         |   96         |  259         | 70.6         | 14.4         |  7.0         |  6.8         | 16514        | 1706         | 3            | 31.806431    | \n",
       "| Cass         | ND           | 1766         | 102874       | 34.4         |  9.8         |  343         |  643         | 87.1         | 26.5         |  7.3         |  2.5         | 16275        | 1674         | 2            | 33.059860    | \n",
       "| Sumter       | SC           |  666         | 102637       | 31.6         |  9.4         |   88         |  214         | 69.8         | 15.0         | 16.9         |  9.4         | 11803        | 1211         | 3            | 69.546070    | \n",
       "| Sarpy        | NE           |  241         | 102583       | 30.4         |  4.8         |   39         |  160         | 91.0         | 25.4         |  3.5         |  2.6         | 16137        | 1655         | 2            | 26.212920    | \n",
       "| Windham      | CT           |  513         | 102525       | 28.5         | 12.5         |  123         |  254         | 71.1         | 16.8         |  6.0         |  9.2         | 18070        | 1853         | 1            | 13.625945    | \n",
       "| Kings        | CA           | 1390         | 101469       | 33.7         |  7.7         |   82         |  180         | 65.6         |  9.0         | 15.0         | 12.8         | 13907        | 1411         | 4            | 43.845904    | \n",
       "| Wayne        | OH           |  555         | 101461       | 26.3         | 11.6         |   84         |  155         | 73.6         | 13.9         |  8.4         |  5.9         | 16464        | 1670         | 2            | 23.427721    | \n",
       "| Charles      | MD           |  461         | 101154       | 29.9         |  6.5         |   67         |  104         | 81.0         | 16.2         |  3.7         |  4.9         | 19317        | 1954         | 3            | 52.187753    | \n",
       "| Hernando     | FL           |  478         | 101115       | 16.4         | 30.7         |   98         |  290         | 70.5         |  9.7         |  7.9         |  8.2         | 13919        | 1407         | 3            | 43.653266    | \n",
       "| Martin       | FL           |  556         | 100900       | 20.4         | 27.5         |  193         |  277         | 79.7         | 20.3         |  5.0         |  9.8         | 27125        | 2737         | 3            | 50.356789    | \n",
       "| Montgomery   | TN           |  539         | 100498       | 35.7         |  7.9         |   87         |  188         | 77.9         | 16.5         | 10.8         |  8.0         | 13169        | 1323         | 3            | 65.046071    | \n",
       "| Maui         | HI           | 1159         | 100374       | 26.2         | 11.3         |  192         |  182         | 77.0         | 17.8         |  5.7         |  3.2         | 18504        | 1857         | 4            | 71.034332    | \n",
       "| Morgan       | AL           |  582         | 100043       | 26.3         | 11.7         |  122         |  464         | 69.4         | 15.5         |  9.4         |  7.1         | 16458        | 1647         | 3            | 46.909829    | \n",
       "\n",
       "\n"
      ],
      "text/plain": [
       "    county         state area  pop     p18_25 p65  nphysician nhospbeds phs \n",
       "1   Los_Angeles    CA     4060 8863164 32.1    9.7 23677      27700     70.0\n",
       "2   Cook           IL      946 5105067 29.2   12.4 15153      21550     73.4\n",
       "3   Harris         TX     1729 2818199 31.3    7.1  7553      12449     74.9\n",
       "4   San_Diego      CA     4205 2498016 33.5   10.9  5905       6179     81.9\n",
       "5   Orange         CA      790 2410556 32.6    9.2  6062       6369     81.2\n",
       "6   Kings          NY       71 2300664 28.3   12.4  4861       8942     63.7\n",
       "7   Maricopa       AZ     9204 2122101 29.2   12.5  4320       6104     81.5\n",
       "8   Wayne          MI      614 2111687 27.4   12.5  3823       9490     70.0\n",
       "9   Dade           FL     1945 1937094 27.1   13.9  6274       8840     65.0\n",
       "10  Dallas         TX      880 1852810 32.6    8.2  4718       6934     77.1\n",
       "11  Philadelphia   PA      135 1585577 29.1   15.2  6641      10494     64.3\n",
       "12  King           WA     2126 1507319 30.1   11.1  5280       4009     88.2\n",
       "13  Santa_Clara    CA     1291 1497577 32.6    8.7  4101       3342     82.0\n",
       "14  San_Bernardino CA    20062 1418380 30.1    8.8  2463       3349     75.4\n",
       "15  Cuyahoga       OH      458 1412140 26.3   15.6  5620       8132     74.0\n",
       "16  Middlesex      MA      824 1398468 31.7   12.5  5158       4152     84.3\n",
       "17  Allegheny      PA      730 1336449 26.2   17.4  5281       8436     79.0\n",
       "18  Suffolk        NY      911 1321864 27.9   10.8  3021       3904     82.2\n",
       "19  Nassau         NY      287 1287348 25.7   14.2  6147       5200     84.2\n",
       "20  Alameda        CA      738 1279182 30.8   10.6  3169       3284     81.4\n",
       "21  Broward        FL     1209 1255488 25.3   20.7  2456       5543     76.8\n",
       "22  Bexar          TX     1247 1185394 29.5    9.9  3062       4086     72.7\n",
       "23  Riverside      CA     7208 1170413 27.9   13.2  1385       2435     74.1\n",
       "24  Tarrant        TX      864 1170103 32.2    8.3  1677       3672     79.9\n",
       "25  Oakland        MI      873 1083592 27.6   10.9  4020       3254     84.6\n",
       "26  Sacramento     CA      966 1041219 29.7   10.6  2464       2855     82.2\n",
       "27  Hennepin       MN      557 1032431 31.6   11.3  3706       5395     88.2\n",
       "28  St._Louis      MO      508  993529 26.1   13.1  1194       1056     82.3\n",
       "29  Erie           NY     1045  968532 27.3   15.2  2748       4632     76.4\n",
       "30  Franklin       OH      540  961437 33.5    9.6  2675       4011     81.0\n",
       "⋮   ⋮              ⋮     ⋮     ⋮       ⋮      ⋮    ⋮          ⋮         ⋮   \n",
       "411 Osceola        FL    1322  107728  27.1   13.9   98        291      73.7\n",
       "412 Yavapai        AZ    8124  107714  18.3   23.8  114        159      78.9\n",
       "413 La_Porte       IN     598  107066  26.0   13.1  149        519      73.9\n",
       "414 La_Salle       IL    1135  106913  23.8   17.2  104        504      73.1\n",
       "415 Yuma           AZ    5514  106895  27.4   13.8  118        197      64.9\n",
       "416 Midland        TX     900  106611  26.8    9.0  139        333      76.8\n",
       "417 Randolph       NC     788  106546  27.1   12.2   69        145      62.0\n",
       "418 Olmsted        MN     653  106470  29.3   10.0 1814       1437      88.0\n",
       "419 Vigo           IN     403  106107  30.2   15.1  179        576      76.0\n",
       "420 Clay           FL     601  105986  26.3    8.5  164        277      81.2\n",
       "421 Androscoggin   ME     470  105259  27.9   13.4  198        527      71.8\n",
       "422 Robeson        NC     949  105179  26.7   10.7   83        281      57.0\n",
       "423 Gregg          TX     274  104948  26.4   13.3  166        420      75.8\n",
       "424 Wayne          NC     553  104666  29.7   10.2  113        263      71.2\n",
       "425 Strafford      NH     369  104233  34.8   10.7  139        237      79.8\n",
       "426 Sheboygan      WI     514  103877  25.4   14.6  114        421      77.4\n",
       "427 Fairfield      OH     506  103461  25.2   11.3   86        195      78.8\n",
       "428 Sumner         TN     529  103281  25.5   10.2   96        259      70.6\n",
       "429 Cass           ND    1766  102874  34.4    9.8  343        643      87.1\n",
       "430 Sumter         SC     666  102637  31.6    9.4   88        214      69.8\n",
       "431 Sarpy          NE     241  102583  30.4    4.8   39        160      91.0\n",
       "432 Windham        CT     513  102525  28.5   12.5  123        254      71.1\n",
       "433 Kings          CA    1390  101469  33.7    7.7   82        180      65.6\n",
       "434 Wayne          OH     555  101461  26.3   11.6   84        155      73.6\n",
       "435 Charles        MD     461  101154  29.9    6.5   67        104      81.0\n",
       "436 Hernando       FL     478  101115  16.4   30.7   98        290      70.5\n",
       "437 Martin         FL     556  100900  20.4   27.5  193        277      79.7\n",
       "438 Montgomery     TN     539  100498  35.7    7.9   87        188      77.9\n",
       "439 Maui           HI    1159  100374  26.2   11.3  192        182      77.0\n",
       "440 Morgan         AL     582  100043  26.3   11.7  122        464      69.4\n",
       "    pcollege ppoverty punemployed avg_income tot_income region crime    \n",
       "1   22.3     11.6      8.0        20786      184230     4       77.73026\n",
       "2   22.8     11.1      7.2        21729      110928     2       85.58869\n",
       "3   25.4     12.5      5.7        19517       55003     3       89.96029\n",
       "4   25.3      8.1      6.1        19588       48931     4       69.58362\n",
       "5   27.8      5.2      4.8        24400       58818     4       59.95463\n",
       "6   16.6     19.5      9.5        16803       38658     1      295.98672\n",
       "7   22.1      8.8      4.9        18042       38287     4       83.68735\n",
       "8   13.7     16.9     10.0        17461       36872     2       91.85926\n",
       "9   18.8     14.2      8.7        17823       34525     3      126.33615\n",
       "10  26.3     10.4      6.1        21001       38911     3      115.63949\n",
       "11  15.2     16.1      8.0        16721       26512     1       68.83803\n",
       "12  32.8      5.0      4.6        23779       35843     4       82.90150\n",
       "13  32.6      5.0      5.5        25193       37728     4       51.42240\n",
       "14  14.9     10.3      8.0        16399       23260     4       58.59502\n",
       "15  20.1     11.0      5.5        21086       29776     2       51.80081\n",
       "16  35.4      4.2      7.3        25312       35398     1       25.61732\n",
       "17  22.6      8.7      5.3        20681       27639     1       37.55175\n",
       "18  23.0      3.3      7.0        24262       32071     1       50.47645\n",
       "19  30.0      2.5      5.1        31679       40782     1       33.55969\n",
       "20  28.8      8.1      5.3        22148       28331     4       83.91144\n",
       "21  18.8      7.1      7.4        22355       28066     3       85.53327\n",
       "22  19.7     16.2      6.7        15508       18383     3      112.28165\n",
       "23  14.6      8.4     10.7        17185       20114     4       81.59000\n",
       "24  24.0      8.2      6.6        18825       22027     3      113.23362\n",
       "25  30.2      4.4      7.3        26884       29131     2       47.03246\n",
       "26  23.0      9.8      6.3        18934       19714     4       80.96760\n",
       "27  31.6      6.4      4.3        23705       24474     2       69.49908\n",
       "28  29.2      4.0      5.1        24219       24062     2       42.87243\n",
       "29  20.0      9.4      6.8        18305       17729     1       57.10291\n",
       "30  26.6      9.1      4.2        19040       18306     2       85.99627\n",
       "⋮   ⋮        ⋮        ⋮           ⋮          ⋮          ⋮      ⋮        \n",
       "411 11.2      6.9      6.7        16451      1772       3      89.716694\n",
       "412 17.7      9.8      5.4        13681      1474       4      36.689752\n",
       "413 11.7      7.8      5.8        16655      1783       2      56.236340\n",
       "414 10.5      8.7      9.6        16119      1723       2      27.891837\n",
       "415 12.7     15.4     17.8        11490      1228       4      50.647832\n",
       "416 26.4     11.5      5.4        19345      2062       3      70.780689\n",
       "417  9.1      6.5      4.8        14721      1568       3      27.593715\n",
       "418 29.5      4.5      3.3        20515      2184       2      40.480887\n",
       "419 18.1     10.7      5.0        15036      1595       2      32.372982\n",
       "420 17.9      5.4      5.9        16029      1699       3      43.024550\n",
       "421 12.6      8.7      9.7        16154      1700       1      38.191509\n",
       "422 11.0     20.7      8.9        10849      1141       3      41.053823\n",
       "423 17.7     13.4      8.2        16775      1761       3      87.481419\n",
       "424 12.7     11.9      7.3        13350      1397       3      44.732769\n",
       "425 21.7      5.1      6.5        17182      1791       1      35.027295\n",
       "426 13.8      4.5      5.6        18061      1876       2      42.675472\n",
       "427 15.5      6.8      6.3        16342      1691       2       6.040924\n",
       "428 14.4      7.0      6.8        16514      1706       3      31.806431\n",
       "429 26.5      7.3      2.5        16275      1674       2      33.059860\n",
       "430 15.0     16.9      9.4        11803      1211       3      69.546070\n",
       "431 25.4      3.5      2.6        16137      1655       2      26.212920\n",
       "432 16.8      6.0      9.2        18070      1853       1      13.625945\n",
       "433  9.0     15.0     12.8        13907      1411       4      43.845904\n",
       "434 13.9      8.4      5.9        16464      1670       2      23.427721\n",
       "435 16.2      3.7      4.9        19317      1954       3      52.187753\n",
       "436  9.7      7.9      8.2        13919      1407       3      43.653266\n",
       "437 20.3      5.0      9.8        27125      2737       3      50.356789\n",
       "438 16.5     10.8      8.0        13169      1323       3      65.046071\n",
       "439 17.8      5.7      3.2        18504      1857       4      71.034332\n",
       "440 15.5      9.4      7.1        16458      1647       3      46.909829"
      ]
     },
     "metadata": {},
     "output_type": "display_data"
    }
   ],
   "source": [
    "data\n"
   ]
  },
  {
   "cell_type": "code",
   "execution_count": 1,
   "metadata": {},
   "outputs": [],
   "source": [
    "wages<-read.csv(\"wages.csv\")"
   ]
  },
  {
   "cell_type": "code",
   "execution_count": 2,
   "metadata": {},
   "outputs": [
    {
     "ename": "ERROR",
     "evalue": "Error in model.frame.default(formula = earn ~ wages, data = wages, drop.unused.levels = TRUE): invalid type (list) for variable 'wages'\n",
     "execution_count": 2,
     "output_type": "error",
     "traceback": [
      "Error in model.frame.default(formula = earn ~ wages, data = wages, drop.unused.levels = TRUE): invalid type (list) for variable 'wages'\nTraceback:\n",
      "1. lm(earn ~ wages, data = wages)",
      "2. eval(mf, parent.frame())",
      "3. eval(mf, parent.frame())",
      "4. stats::model.frame(formula = earn ~ wages, data = wages, drop.unused.levels = TRUE)",
      "5. model.frame.default(formula = earn ~ wages, data = wages, drop.unused.levels = TRUE)"
     ]
    }
   ],
   "source": [
    "hmod<-lm(earn~wages, data=wages)"
   ]
  },
  {
   "cell_type": "code",
   "execution_count": 3,
   "metadata": {},
   "outputs": [
    {
     "data": {
      "text/html": [
       "<table>\n",
       "<thead><tr><th scope=col>earn</th><th scope=col>height</th><th scope=col>sex</th><th scope=col>race</th><th scope=col>ed</th><th scope=col>age</th></tr></thead>\n",
       "<tbody>\n",
       "\t<tr><td>79571.29901</td><td>73.89      </td><td>male       </td><td>white      </td><td>16         </td><td>49         </td></tr>\n",
       "\t<tr><td>96396.98864</td><td>66.23      </td><td>female     </td><td>white      </td><td>16         </td><td>62         </td></tr>\n",
       "\t<tr><td>48710.66695</td><td>63.77      </td><td>female     </td><td>white      </td><td>16         </td><td>33         </td></tr>\n",
       "\t<tr><td>80478.09615</td><td>63.22      </td><td>female     </td><td>other      </td><td>16         </td><td>95         </td></tr>\n",
       "\t<tr><td>82089.34550</td><td>63.08      </td><td>female     </td><td>white      </td><td>17         </td><td>43         </td></tr>\n",
       "\t<tr><td>15313.35290</td><td>64.53      </td><td>female     </td><td>white      </td><td>15         </td><td>30         </td></tr>\n",
       "\t<tr><td>47104.17182</td><td>61.54      </td><td>female     </td><td>white      </td><td>12         </td><td>53         </td></tr>\n",
       "\t<tr><td>50960.05428</td><td>73.29      </td><td>male       </td><td>white      </td><td>17         </td><td>50         </td></tr>\n",
       "\t<tr><td> 3212.64956</td><td>72.24      </td><td>male       </td><td>hispanic   </td><td>15         </td><td>25         </td></tr>\n",
       "\t<tr><td>42996.63788</td><td>72.40      </td><td>male       </td><td>white      </td><td>12         </td><td>30         </td></tr>\n",
       "\t<tr><td>10328.61884</td><td>70.22      </td><td>male       </td><td>white      </td><td>16         </td><td>69         </td></tr>\n",
       "\t<tr><td> 1002.30716</td><td>63.15      </td><td>female     </td><td>white      </td><td>14         </td><td>54         </td></tr>\n",
       "\t<tr><td>47597.81986</td><td>68.11      </td><td>male       </td><td>white      </td><td>11         </td><td>38         </td></tr>\n",
       "\t<tr><td>19019.54230</td><td>68.08      </td><td>male       </td><td>white      </td><td>12         </td><td>31         </td></tr>\n",
       "\t<tr><td>20063.99664</td><td>64.86      </td><td>female     </td><td>white      </td><td>12         </td><td>55         </td></tr>\n",
       "\t<tr><td>  992.83235</td><td>60.06      </td><td>female     </td><td>white      </td><td>12         </td><td>31         </td></tr>\n",
       "\t<tr><td>35972.17112</td><td>66.01      </td><td>female     </td><td>white      </td><td>16         </td><td>39         </td></tr>\n",
       "\t<tr><td>26930.54396</td><td>68.07      </td><td>male       </td><td>white      </td><td>12         </td><td>62         </td></tr>\n",
       "\t<tr><td>64602.06397</td><td>68.16      </td><td>female     </td><td>white      </td><td>14         </td><td>33         </td></tr>\n",
       "\t<tr><td>69993.69307</td><td>70.02      </td><td>male       </td><td>white      </td><td>13         </td><td>48         </td></tr>\n",
       "\t<tr><td> 1000.21831</td><td>67.08      </td><td>female     </td><td>white      </td><td> 9         </td><td>25         </td></tr>\n",
       "\t<tr><td>12131.82212</td><td>64.20      </td><td>female     </td><td>black      </td><td>12         </td><td>59         </td></tr>\n",
       "\t<tr><td>84223.39792</td><td>72.76      </td><td>male       </td><td>black      </td><td>13         </td><td>39         </td></tr>\n",
       "\t<tr><td> 8949.47494</td><td>62.17      </td><td>female     </td><td>white      </td><td>13         </td><td>55         </td></tr>\n",
       "\t<tr><td>23278.32328</td><td>63.04      </td><td>female     </td><td>white      </td><td>14         </td><td>25         </td></tr>\n",
       "\t<tr><td> 8750.13919</td><td>66.67      </td><td>male       </td><td>white      </td><td>14         </td><td>26         </td></tr>\n",
       "\t<tr><td>64593.59981</td><td>65.95      </td><td>female     </td><td>white      </td><td>12         </td><td>45         </td></tr>\n",
       "\t<tr><td>54079.81495</td><td>71.69      </td><td>male       </td><td>white      </td><td>12         </td><td>49         </td></tr>\n",
       "\t<tr><td>16896.10004</td><td>62.76      </td><td>female     </td><td>black      </td><td>12         </td><td>39         </td></tr>\n",
       "\t<tr><td>  -95.71028</td><td>68.46      </td><td>male       </td><td>white      </td><td>11         </td><td>25         </td></tr>\n",
       "\t<tr><td>⋮</td><td>⋮</td><td>⋮</td><td>⋮</td><td>⋮</td><td>⋮</td></tr>\n",
       "\t<tr><td> 64607.9619</td><td>65.68      </td><td>female     </td><td>white      </td><td>16         </td><td>63         </td></tr>\n",
       "\t<tr><td> 15899.4032</td><td>67.02      </td><td>male       </td><td>white      </td><td>12         </td><td>81         </td></tr>\n",
       "\t<tr><td> 25361.8284</td><td>66.10      </td><td>male       </td><td>white      </td><td>12         </td><td>41         </td></tr>\n",
       "\t<tr><td> 18482.9572</td><td>63.27      </td><td>female     </td><td>white      </td><td> 9         </td><td>55         </td></tr>\n",
       "\t<tr><td> 26432.8865</td><td>67.89      </td><td>female     </td><td>white      </td><td>13         </td><td>47         </td></tr>\n",
       "\t<tr><td> 28644.5001</td><td>70.32      </td><td>male       </td><td>white      </td><td>12         </td><td>31         </td></tr>\n",
       "\t<tr><td> 20065.0827</td><td>62.98      </td><td>female     </td><td>white      </td><td>16         </td><td>30         </td></tr>\n",
       "\t<tr><td>  6354.8421</td><td>70.09      </td><td>male       </td><td>black      </td><td>14         </td><td>25         </td></tr>\n",
       "\t<tr><td> 95416.6068</td><td>71.92      </td><td>male       </td><td>white      </td><td>12         </td><td>49         </td></tr>\n",
       "\t<tr><td> 68428.9231</td><td>74.92      </td><td>male       </td><td>white      </td><td>17         </td><td>44         </td></tr>\n",
       "\t<tr><td> 50299.0513</td><td>61.97      </td><td>female     </td><td>white      </td><td>14         </td><td>43         </td></tr>\n",
       "\t<tr><td> 80518.4094</td><td>67.98      </td><td>female     </td><td>white      </td><td>17         </td><td>43         </td></tr>\n",
       "\t<tr><td> 43919.8943</td><td>68.18      </td><td>female     </td><td>white      </td><td>14         </td><td>33         </td></tr>\n",
       "\t<tr><td> 47712.4409</td><td>69.85      </td><td>male       </td><td>white      </td><td>17         </td><td>60         </td></tr>\n",
       "\t<tr><td> 19182.6074</td><td>73.26      </td><td>male       </td><td>black      </td><td>13         </td><td>25         </td></tr>\n",
       "\t<tr><td>   987.2651</td><td>69.01      </td><td>female     </td><td>white      </td><td>16         </td><td>43         </td></tr>\n",
       "\t<tr><td> 32798.0512</td><td>62.37      </td><td>female     </td><td>white      </td><td>17         </td><td>34         </td></tr>\n",
       "\t<tr><td> 24849.1933</td><td>60.30      </td><td>female     </td><td>black      </td><td>12         </td><td>80         </td></tr>\n",
       "\t<tr><td> 40757.9351</td><td>64.17      </td><td>female     </td><td>other      </td><td>16         </td><td>41         </td></tr>\n",
       "\t<tr><td>  4184.2227</td><td>60.19      </td><td>female     </td><td>hispanic   </td><td> 6         </td><td>71         </td></tr>\n",
       "\t<tr><td>  4755.7365</td><td>72.94      </td><td>male       </td><td>hispanic   </td><td>15         </td><td>24         </td></tr>\n",
       "\t<tr><td>175901.4536</td><td>65.90      </td><td>female     </td><td>other      </td><td>18         </td><td>52         </td></tr>\n",
       "\t<tr><td> 87473.9688</td><td>68.82      </td><td>male       </td><td>white      </td><td>18         </td><td>75         </td></tr>\n",
       "\t<tr><td> 92205.5961</td><td>69.62      </td><td>male       </td><td>white      </td><td>18         </td><td>57         </td></tr>\n",
       "\t<tr><td> 16905.5579</td><td>70.08      </td><td>female     </td><td>white      </td><td>16         </td><td>40         </td></tr>\n",
       "\t<tr><td> 30173.3804</td><td>71.68      </td><td>male       </td><td>white      </td><td>12         </td><td>33         </td></tr>\n",
       "\t<tr><td> 24853.5195</td><td>61.31      </td><td>female     </td><td>white      </td><td>18         </td><td>86         </td></tr>\n",
       "\t<tr><td> 13710.6713</td><td>63.64      </td><td>female     </td><td>white      </td><td>12         </td><td>37         </td></tr>\n",
       "\t<tr><td> 95426.0144</td><td>71.65      </td><td>male       </td><td>white      </td><td>12         </td><td>54         </td></tr>\n",
       "\t<tr><td>  9575.4619</td><td>68.22      </td><td>male       </td><td>white      </td><td>12         </td><td>31         </td></tr>\n",
       "</tbody>\n",
       "</table>\n"
      ],
      "text/latex": [
       "\\begin{tabular}{r|llllll}\n",
       " earn & height & sex & race & ed & age\\\\\n",
       "\\hline\n",
       "\t 79571.29901 & 73.89       & male        & white       & 16          & 49         \\\\\n",
       "\t 96396.98864 & 66.23       & female      & white       & 16          & 62         \\\\\n",
       "\t 48710.66695 & 63.77       & female      & white       & 16          & 33         \\\\\n",
       "\t 80478.09615 & 63.22       & female      & other       & 16          & 95         \\\\\n",
       "\t 82089.34550 & 63.08       & female      & white       & 17          & 43         \\\\\n",
       "\t 15313.35290 & 64.53       & female      & white       & 15          & 30         \\\\\n",
       "\t 47104.17182 & 61.54       & female      & white       & 12          & 53         \\\\\n",
       "\t 50960.05428 & 73.29       & male        & white       & 17          & 50         \\\\\n",
       "\t  3212.64956 & 72.24       & male        & hispanic    & 15          & 25         \\\\\n",
       "\t 42996.63788 & 72.40       & male        & white       & 12          & 30         \\\\\n",
       "\t 10328.61884 & 70.22       & male        & white       & 16          & 69         \\\\\n",
       "\t  1002.30716 & 63.15       & female      & white       & 14          & 54         \\\\\n",
       "\t 47597.81986 & 68.11       & male        & white       & 11          & 38         \\\\\n",
       "\t 19019.54230 & 68.08       & male        & white       & 12          & 31         \\\\\n",
       "\t 20063.99664 & 64.86       & female      & white       & 12          & 55         \\\\\n",
       "\t   992.83235 & 60.06       & female      & white       & 12          & 31         \\\\\n",
       "\t 35972.17112 & 66.01       & female      & white       & 16          & 39         \\\\\n",
       "\t 26930.54396 & 68.07       & male        & white       & 12          & 62         \\\\\n",
       "\t 64602.06397 & 68.16       & female      & white       & 14          & 33         \\\\\n",
       "\t 69993.69307 & 70.02       & male        & white       & 13          & 48         \\\\\n",
       "\t  1000.21831 & 67.08       & female      & white       &  9          & 25         \\\\\n",
       "\t 12131.82212 & 64.20       & female      & black       & 12          & 59         \\\\\n",
       "\t 84223.39792 & 72.76       & male        & black       & 13          & 39         \\\\\n",
       "\t  8949.47494 & 62.17       & female      & white       & 13          & 55         \\\\\n",
       "\t 23278.32328 & 63.04       & female      & white       & 14          & 25         \\\\\n",
       "\t  8750.13919 & 66.67       & male        & white       & 14          & 26         \\\\\n",
       "\t 64593.59981 & 65.95       & female      & white       & 12          & 45         \\\\\n",
       "\t 54079.81495 & 71.69       & male        & white       & 12          & 49         \\\\\n",
       "\t 16896.10004 & 62.76       & female      & black       & 12          & 39         \\\\\n",
       "\t   -95.71028 & 68.46       & male        & white       & 11          & 25         \\\\\n",
       "\t ⋮ & ⋮ & ⋮ & ⋮ & ⋮ & ⋮\\\\\n",
       "\t  64607.9619 & 65.68       & female      & white       & 16          & 63         \\\\\n",
       "\t  15899.4032 & 67.02       & male        & white       & 12          & 81         \\\\\n",
       "\t  25361.8284 & 66.10       & male        & white       & 12          & 41         \\\\\n",
       "\t  18482.9572 & 63.27       & female      & white       &  9          & 55         \\\\\n",
       "\t  26432.8865 & 67.89       & female      & white       & 13          & 47         \\\\\n",
       "\t  28644.5001 & 70.32       & male        & white       & 12          & 31         \\\\\n",
       "\t  20065.0827 & 62.98       & female      & white       & 16          & 30         \\\\\n",
       "\t   6354.8421 & 70.09       & male        & black       & 14          & 25         \\\\\n",
       "\t  95416.6068 & 71.92       & male        & white       & 12          & 49         \\\\\n",
       "\t  68428.9231 & 74.92       & male        & white       & 17          & 44         \\\\\n",
       "\t  50299.0513 & 61.97       & female      & white       & 14          & 43         \\\\\n",
       "\t  80518.4094 & 67.98       & female      & white       & 17          & 43         \\\\\n",
       "\t  43919.8943 & 68.18       & female      & white       & 14          & 33         \\\\\n",
       "\t  47712.4409 & 69.85       & male        & white       & 17          & 60         \\\\\n",
       "\t  19182.6074 & 73.26       & male        & black       & 13          & 25         \\\\\n",
       "\t    987.2651 & 69.01       & female      & white       & 16          & 43         \\\\\n",
       "\t  32798.0512 & 62.37       & female      & white       & 17          & 34         \\\\\n",
       "\t  24849.1933 & 60.30       & female      & black       & 12          & 80         \\\\\n",
       "\t  40757.9351 & 64.17       & female      & other       & 16          & 41         \\\\\n",
       "\t   4184.2227 & 60.19       & female      & hispanic    &  6          & 71         \\\\\n",
       "\t   4755.7365 & 72.94       & male        & hispanic    & 15          & 24         \\\\\n",
       "\t 175901.4536 & 65.90       & female      & other       & 18          & 52         \\\\\n",
       "\t  87473.9688 & 68.82       & male        & white       & 18          & 75         \\\\\n",
       "\t  92205.5961 & 69.62       & male        & white       & 18          & 57         \\\\\n",
       "\t  16905.5579 & 70.08       & female      & white       & 16          & 40         \\\\\n",
       "\t  30173.3804 & 71.68       & male        & white       & 12          & 33         \\\\\n",
       "\t  24853.5195 & 61.31       & female      & white       & 18          & 86         \\\\\n",
       "\t  13710.6713 & 63.64       & female      & white       & 12          & 37         \\\\\n",
       "\t  95426.0144 & 71.65       & male        & white       & 12          & 54         \\\\\n",
       "\t   9575.4619 & 68.22       & male        & white       & 12          & 31         \\\\\n",
       "\\end{tabular}\n"
      ],
      "text/markdown": [
       "\n",
       "earn | height | sex | race | ed | age | \n",
       "|---|---|---|---|---|---|---|---|---|---|---|---|---|---|---|---|---|---|---|---|---|---|---|---|---|---|---|---|---|---|---|---|---|---|---|---|---|---|---|---|---|---|---|---|---|---|---|---|---|---|---|---|---|---|---|---|---|---|---|---|---|\n",
       "| 79571.29901 | 73.89       | male        | white       | 16          | 49          | \n",
       "| 96396.98864 | 66.23       | female      | white       | 16          | 62          | \n",
       "| 48710.66695 | 63.77       | female      | white       | 16          | 33          | \n",
       "| 80478.09615 | 63.22       | female      | other       | 16          | 95          | \n",
       "| 82089.34550 | 63.08       | female      | white       | 17          | 43          | \n",
       "| 15313.35290 | 64.53       | female      | white       | 15          | 30          | \n",
       "| 47104.17182 | 61.54       | female      | white       | 12          | 53          | \n",
       "| 50960.05428 | 73.29       | male        | white       | 17          | 50          | \n",
       "|  3212.64956 | 72.24       | male        | hispanic    | 15          | 25          | \n",
       "| 42996.63788 | 72.40       | male        | white       | 12          | 30          | \n",
       "| 10328.61884 | 70.22       | male        | white       | 16          | 69          | \n",
       "|  1002.30716 | 63.15       | female      | white       | 14          | 54          | \n",
       "| 47597.81986 | 68.11       | male        | white       | 11          | 38          | \n",
       "| 19019.54230 | 68.08       | male        | white       | 12          | 31          | \n",
       "| 20063.99664 | 64.86       | female      | white       | 12          | 55          | \n",
       "|   992.83235 | 60.06       | female      | white       | 12          | 31          | \n",
       "| 35972.17112 | 66.01       | female      | white       | 16          | 39          | \n",
       "| 26930.54396 | 68.07       | male        | white       | 12          | 62          | \n",
       "| 64602.06397 | 68.16       | female      | white       | 14          | 33          | \n",
       "| 69993.69307 | 70.02       | male        | white       | 13          | 48          | \n",
       "|  1000.21831 | 67.08       | female      | white       |  9          | 25          | \n",
       "| 12131.82212 | 64.20       | female      | black       | 12          | 59          | \n",
       "| 84223.39792 | 72.76       | male        | black       | 13          | 39          | \n",
       "|  8949.47494 | 62.17       | female      | white       | 13          | 55          | \n",
       "| 23278.32328 | 63.04       | female      | white       | 14          | 25          | \n",
       "|  8750.13919 | 66.67       | male        | white       | 14          | 26          | \n",
       "| 64593.59981 | 65.95       | female      | white       | 12          | 45          | \n",
       "| 54079.81495 | 71.69       | male        | white       | 12          | 49          | \n",
       "| 16896.10004 | 62.76       | female      | black       | 12          | 39          | \n",
       "|   -95.71028 | 68.46       | male        | white       | 11          | 25          | \n",
       "| ⋮ | ⋮ | ⋮ | ⋮ | ⋮ | ⋮ | \n",
       "|  64607.9619 | 65.68       | female      | white       | 16          | 63          | \n",
       "|  15899.4032 | 67.02       | male        | white       | 12          | 81          | \n",
       "|  25361.8284 | 66.10       | male        | white       | 12          | 41          | \n",
       "|  18482.9572 | 63.27       | female      | white       |  9          | 55          | \n",
       "|  26432.8865 | 67.89       | female      | white       | 13          | 47          | \n",
       "|  28644.5001 | 70.32       | male        | white       | 12          | 31          | \n",
       "|  20065.0827 | 62.98       | female      | white       | 16          | 30          | \n",
       "|   6354.8421 | 70.09       | male        | black       | 14          | 25          | \n",
       "|  95416.6068 | 71.92       | male        | white       | 12          | 49          | \n",
       "|  68428.9231 | 74.92       | male        | white       | 17          | 44          | \n",
       "|  50299.0513 | 61.97       | female      | white       | 14          | 43          | \n",
       "|  80518.4094 | 67.98       | female      | white       | 17          | 43          | \n",
       "|  43919.8943 | 68.18       | female      | white       | 14          | 33          | \n",
       "|  47712.4409 | 69.85       | male        | white       | 17          | 60          | \n",
       "|  19182.6074 | 73.26       | male        | black       | 13          | 25          | \n",
       "|    987.2651 | 69.01       | female      | white       | 16          | 43          | \n",
       "|  32798.0512 | 62.37       | female      | white       | 17          | 34          | \n",
       "|  24849.1933 | 60.30       | female      | black       | 12          | 80          | \n",
       "|  40757.9351 | 64.17       | female      | other       | 16          | 41          | \n",
       "|   4184.2227 | 60.19       | female      | hispanic    |  6          | 71          | \n",
       "|   4755.7365 | 72.94       | male        | hispanic    | 15          | 24          | \n",
       "| 175901.4536 | 65.90       | female      | other       | 18          | 52          | \n",
       "|  87473.9688 | 68.82       | male        | white       | 18          | 75          | \n",
       "|  92205.5961 | 69.62       | male        | white       | 18          | 57          | \n",
       "|  16905.5579 | 70.08       | female      | white       | 16          | 40          | \n",
       "|  30173.3804 | 71.68       | male        | white       | 12          | 33          | \n",
       "|  24853.5195 | 61.31       | female      | white       | 18          | 86          | \n",
       "|  13710.6713 | 63.64       | female      | white       | 12          | 37          | \n",
       "|  95426.0144 | 71.65       | male        | white       | 12          | 54          | \n",
       "|   9575.4619 | 68.22       | male        | white       | 12          | 31          | \n",
       "\n",
       "\n"
      ],
      "text/plain": [
       "     earn        height sex    race     ed age\n",
       "1    79571.29901 73.89  male   white    16 49 \n",
       "2    96396.98864 66.23  female white    16 62 \n",
       "3    48710.66695 63.77  female white    16 33 \n",
       "4    80478.09615 63.22  female other    16 95 \n",
       "5    82089.34550 63.08  female white    17 43 \n",
       "6    15313.35290 64.53  female white    15 30 \n",
       "7    47104.17182 61.54  female white    12 53 \n",
       "8    50960.05428 73.29  male   white    17 50 \n",
       "9     3212.64956 72.24  male   hispanic 15 25 \n",
       "10   42996.63788 72.40  male   white    12 30 \n",
       "11   10328.61884 70.22  male   white    16 69 \n",
       "12    1002.30716 63.15  female white    14 54 \n",
       "13   47597.81986 68.11  male   white    11 38 \n",
       "14   19019.54230 68.08  male   white    12 31 \n",
       "15   20063.99664 64.86  female white    12 55 \n",
       "16     992.83235 60.06  female white    12 31 \n",
       "17   35972.17112 66.01  female white    16 39 \n",
       "18   26930.54396 68.07  male   white    12 62 \n",
       "19   64602.06397 68.16  female white    14 33 \n",
       "20   69993.69307 70.02  male   white    13 48 \n",
       "21    1000.21831 67.08  female white     9 25 \n",
       "22   12131.82212 64.20  female black    12 59 \n",
       "23   84223.39792 72.76  male   black    13 39 \n",
       "24    8949.47494 62.17  female white    13 55 \n",
       "25   23278.32328 63.04  female white    14 25 \n",
       "26    8750.13919 66.67  male   white    14 26 \n",
       "27   64593.59981 65.95  female white    12 45 \n",
       "28   54079.81495 71.69  male   white    12 49 \n",
       "29   16896.10004 62.76  female black    12 39 \n",
       "30     -95.71028 68.46  male   white    11 25 \n",
       "⋮    ⋮           ⋮      ⋮      ⋮        ⋮  ⋮  \n",
       "1350  64607.9619 65.68  female white    16 63 \n",
       "1351  15899.4032 67.02  male   white    12 81 \n",
       "1352  25361.8284 66.10  male   white    12 41 \n",
       "1353  18482.9572 63.27  female white     9 55 \n",
       "1354  26432.8865 67.89  female white    13 47 \n",
       "1355  28644.5001 70.32  male   white    12 31 \n",
       "1356  20065.0827 62.98  female white    16 30 \n",
       "1357   6354.8421 70.09  male   black    14 25 \n",
       "1358  95416.6068 71.92  male   white    12 49 \n",
       "1359  68428.9231 74.92  male   white    17 44 \n",
       "1360  50299.0513 61.97  female white    14 43 \n",
       "1361  80518.4094 67.98  female white    17 43 \n",
       "1362  43919.8943 68.18  female white    14 33 \n",
       "1363  47712.4409 69.85  male   white    17 60 \n",
       "1364  19182.6074 73.26  male   black    13 25 \n",
       "1365    987.2651 69.01  female white    16 43 \n",
       "1366  32798.0512 62.37  female white    17 34 \n",
       "1367  24849.1933 60.30  female black    12 80 \n",
       "1368  40757.9351 64.17  female other    16 41 \n",
       "1369   4184.2227 60.19  female hispanic  6 71 \n",
       "1370   4755.7365 72.94  male   hispanic 15 24 \n",
       "1371 175901.4536 65.90  female other    18 52 \n",
       "1372  87473.9688 68.82  male   white    18 75 \n",
       "1373  92205.5961 69.62  male   white    18 57 \n",
       "1374  16905.5579 70.08  female white    16 40 \n",
       "1375  30173.3804 71.68  male   white    12 33 \n",
       "1376  24853.5195 61.31  female white    18 86 \n",
       "1377  13710.6713 63.64  female white    12 37 \n",
       "1378  95426.0144 71.65  male   white    12 54 \n",
       "1379   9575.4619 68.22  male   white    12 31 "
      ]
     },
     "metadata": {},
     "output_type": "display_data"
    }
   ],
   "source": [
    "wages"
   ]
  },
  {
   "cell_type": "code",
   "execution_count": 8,
   "metadata": {},
   "outputs": [
    {
     "data": {
      "text/plain": [
       "\n",
       "Call:\n",
       "lm(formula = earn ~ height, data = wages)\n",
       "\n",
       "Residuals:\n",
       "   Min     1Q Median     3Q    Max \n",
       "-47903 -19744  -5184  11642 276796 \n",
       "\n",
       "Coefficients:\n",
       "            Estimate Std. Error t value Pr(>|t|)    \n",
       "(Intercept)  -126523      14076  -8.989   <2e-16 ***\n",
       "height          2387        211  11.312   <2e-16 ***\n",
       "---\n",
       "Signif. codes:  0 ‘***’ 0.001 ‘**’ 0.01 ‘*’ 0.05 ‘.’ 0.1 ‘ ’ 1\n",
       "\n",
       "Residual standard error: 29910 on 1377 degrees of freedom\n",
       "Multiple R-squared:  0.08503,\tAdjusted R-squared:  0.08437 \n",
       "F-statistic:   128 on 1 and 1377 DF,  p-value: < 2.2e-16\n"
      ]
     },
     "metadata": {},
     "output_type": "display_data"
    }
   ],
   "source": [
    "hmod<-lm(earn~height,data=wages) #lm lineal regression, para las variables earn y height\n",
    "summary(hmod)"
   ]
  },
  {
   "cell_type": "markdown",
   "metadata": {},
   "source": [
    "AIC Si el p-value es pequeño (nivel de significancia con *** ) se justifica el uso de la pendiente, quiere decir que no es una constante."
   ]
  },
  {
   "cell_type": "markdown",
   "metadata": {},
   "source": [
    "BIC mas restrictiva que AIC, penaliza mas la flexibilidad de los datos."
   ]
  },
  {
   "cell_type": "code",
   "execution_count": 9,
   "metadata": {},
   "outputs": [
    {
     "data": {
      "text/html": [
       "32356.8773312171"
      ],
      "text/latex": [
       "32356.8773312171"
      ],
      "text/markdown": [
       "32356.8773312171"
      ],
      "text/plain": [
       "[1] 32356.88"
      ]
     },
     "metadata": {},
     "output_type": "display_data"
    }
   ],
   "source": [
    "BIC(hmod)"
   ]
  },
  {
   "cell_type": "code",
   "execution_count": 10,
   "metadata": {},
   "outputs": [
    {
     "data": {
      "text/html": [
       "0.0843662399290006"
      ],
      "text/latex": [
       "0.0843662399290006"
      ],
      "text/markdown": [
       "0.0843662399290006"
      ],
      "text/plain": [
       "[1] 0.08436624"
      ]
     },
     "metadata": {},
     "output_type": "display_data"
    }
   ],
   "source": [
    "summary(hmod)$adj.r.squared"
   ]
  },
  {
   "cell_type": "markdown",
   "metadata": {},
   "source": [
    "# Ajuste $R^2$\n",
    "añade penalidad a las variables que son innecesarias, hace un ajuste al máximo, esto no esta bien fundamentado como BIC y AIC.\n"
   ]
  },
  {
   "cell_type": "markdown",
   "metadata": {},
   "source": [
    "Para dependencia de datos, con BIC, se puede hacer el analisis de todas las posibles combinaciones de variables. con el paquete leaps"
   ]
  },
  {
   "cell_type": "code",
   "execution_count": 13,
   "metadata": {},
   "outputs": [
    {
     "name": "stderr",
     "output_type": "stream",
     "text": [
      "Installing package into ‘/srv/rlibs’\n",
      "(as ‘lib’ is unspecified)\n"
     ]
    }
   ],
   "source": [
    "install.packages(\"leaps\")"
   ]
  },
  {
   "cell_type": "code",
   "execution_count": 17,
   "metadata": {},
   "outputs": [],
   "source": [
    "library(leaps)"
   ]
  },
  {
   "cell_type": "code",
   "execution_count": 18,
   "metadata": {},
   "outputs": [],
   "source": [
    "subs<-regsubsets(earn~.,data=wages)"
   ]
  },
  {
   "cell_type": "code",
   "execution_count": 19,
   "metadata": {},
   "outputs": [
    {
     "data": {
      "text/plain": [
       "Subset selection object\n",
       "Call: regsubsets.formula(earn ~ ., data = wages)\n",
       "7 Variables  (and intercept)\n",
       "             Forced in Forced out\n",
       "height           FALSE      FALSE\n",
       "sexmale          FALSE      FALSE\n",
       "racehispanic     FALSE      FALSE\n",
       "raceother        FALSE      FALSE\n",
       "racewhite        FALSE      FALSE\n",
       "ed               FALSE      FALSE\n",
       "age              FALSE      FALSE\n",
       "1 subsets of each size up to 7\n",
       "Selection Algorithm: exhaustive"
      ]
     },
     "metadata": {},
     "output_type": "display_data"
    }
   ],
   "source": [
    "subs"
   ]
  },
  {
   "cell_type": "code",
   "execution_count": 20,
   "metadata": {},
   "outputs": [
    {
     "data": {
      "text/plain": [
       "Subset selection object\n",
       "Call: regsubsets.formula(earn ~ ., data = wages)\n",
       "7 Variables  (and intercept)\n",
       "             Forced in Forced out\n",
       "height           FALSE      FALSE\n",
       "sexmale          FALSE      FALSE\n",
       "racehispanic     FALSE      FALSE\n",
       "raceother        FALSE      FALSE\n",
       "racewhite        FALSE      FALSE\n",
       "ed               FALSE      FALSE\n",
       "age              FALSE      FALSE\n",
       "1 subsets of each size up to 7\n",
       "Selection Algorithm: exhaustive\n",
       "         height sexmale racehispanic raceother racewhite ed  age\n",
       "1  ( 1 ) \" \"    \" \"     \" \"          \" \"       \" \"       \"*\" \" \"\n",
       "2  ( 1 ) \" \"    \"*\"     \" \"          \" \"       \" \"       \"*\" \" \"\n",
       "3  ( 1 ) \" \"    \"*\"     \" \"          \" \"       \" \"       \"*\" \"*\"\n",
       "4  ( 1 ) \"*\"    \"*\"     \" \"          \" \"       \" \"       \"*\" \"*\"\n",
       "5  ( 1 ) \"*\"    \"*\"     \" \"          \" \"       \"*\"       \"*\" \"*\"\n",
       "6  ( 1 ) \"*\"    \"*\"     \"*\"          \" \"       \"*\"       \"*\" \"*\"\n",
       "7  ( 1 ) \"*\"    \"*\"     \"*\"          \"*\"       \"*\"       \"*\" \"*\""
      ]
     },
     "metadata": {},
     "output_type": "display_data"
    }
   ],
   "source": [
    "summary(subs)"
   ]
  },
  {
   "cell_type": "markdown",
   "metadata": {},
   "source": [
    "para ver los valores de cada combinación"
   ]
  },
  {
   "cell_type": "code",
   "execution_count": 22,
   "metadata": {},
   "outputs": [
    {
     "data": {
      "text/html": [
       "<ol class=list-inline>\n",
       "\t<li>0.122124535017864</li>\n",
       "\t<li>0.221675676111106</li>\n",
       "\t<li>0.240921355264815</li>\n",
       "\t<li>0.243884266385282</li>\n",
       "\t<li>0.244815901871826</li>\n",
       "\t<li>0.244420272983125</li>\n",
       "\t<li>0.243871643804605</li>\n",
       "</ol>\n"
      ],
      "text/latex": [
       "\\begin{enumerate*}\n",
       "\\item 0.122124535017864\n",
       "\\item 0.221675676111106\n",
       "\\item 0.240921355264815\n",
       "\\item 0.243884266385282\n",
       "\\item 0.244815901871826\n",
       "\\item 0.244420272983125\n",
       "\\item 0.243871643804605\n",
       "\\end{enumerate*}\n"
      ],
      "text/markdown": [
       "1. 0.122124535017864\n",
       "2. 0.221675676111106\n",
       "3. 0.240921355264815\n",
       "4. 0.243884266385282\n",
       "5. 0.244815901871826\n",
       "6. 0.244420272983125\n",
       "7. 0.243871643804605\n",
       "\n",
       "\n"
      ],
      "text/plain": [
       "[1] 0.1221245 0.2216757 0.2409214 0.2438843 0.2448159 0.2444203 0.2438716"
      ]
     },
     "metadata": {},
     "output_type": "display_data"
    }
   ],
   "source": [
    "summary(subs)$adjr2 "
   ]
  },
  {
   "cell_type": "code",
   "execution_count": 24,
   "metadata": {},
   "outputs": [
    {
     "data": {
      "text/html": [
       "<dl class=dl-horizontal>\n",
       "\t<dt>(Intercept)</dt>\n",
       "\t\t<dd>-47907.2278841542</dd>\n",
       "\t<dt>sexmale</dt>\n",
       "\t\t<dd>21000.8844371875</dd>\n",
       "\t<dt>ed</dt>\n",
       "\t\t<dd>4469.27200570374</dd>\n",
       "\t<dt>age</dt>\n",
       "\t\t<dd>281.258904672533</dd>\n",
       "</dl>\n"
      ],
      "text/latex": [
       "\\begin{description*}\n",
       "\\item[(Intercept)] -47907.2278841542\n",
       "\\item[sexmale] 21000.8844371875\n",
       "\\item[ed] 4469.27200570374\n",
       "\\item[age] 281.258904672533\n",
       "\\end{description*}\n"
      ],
      "text/markdown": [
       "(Intercept)\n",
       ":   -47907.2278841542sexmale\n",
       ":   21000.8844371875ed\n",
       ":   4469.27200570374age\n",
       ":   281.258904672533\n",
       "\n"
      ],
      "text/plain": [
       "(Intercept)     sexmale          ed         age \n",
       "-47907.2279  21000.8844   4469.2720    281.2589 "
      ]
     },
     "metadata": {},
     "output_type": "display_data"
    }
   ],
   "source": [
    "coef(subs, 3)"
   ]
  },
  {
   "cell_type": "code",
   "execution_count": 26,
   "metadata": {},
   "outputs": [],
   "source": [
    "mod<-lm(earn~poly(age),data=wages)"
   ]
  },
  {
   "cell_type": "code",
   "execution_count": 27,
   "metadata": {},
   "outputs": [
    {
     "data": {
      "text/plain": [
       "\n",
       "Call:\n",
       "lm(formula = earn ~ poly(age), data = wages)\n",
       "\n",
       "Coefficients:\n",
       "(Intercept)    poly(age)  \n",
       "      32446        85867  \n"
      ]
     },
     "metadata": {},
     "output_type": "display_data"
    }
   ],
   "source": [
    "mod"
   ]
  },
  {
   "cell_type": "code",
   "execution_count": 28,
   "metadata": {},
   "outputs": [
    {
     "data": {
      "text/plain": [
       "\n",
       "Call:\n",
       "lm(formula = earn ~ poly(age), data = wages)\n",
       "\n",
       "Residuals:\n",
       "   Min     1Q Median     3Q    Max \n",
       "-36805 -21970  -5127  12472 286576 \n",
       "\n",
       "Coefficients:\n",
       "            Estimate Std. Error t value Pr(>|t|)    \n",
       "(Intercept)  32446.3      839.7  38.640  < 2e-16 ***\n",
       "poly(age)    85866.8    31182.7   2.754  0.00597 ** \n",
       "---\n",
       "Signif. codes:  0 ‘***’ 0.001 ‘**’ 0.01 ‘*’ 0.05 ‘.’ 0.1 ‘ ’ 1\n",
       "\n",
       "Residual standard error: 31180 on 1377 degrees of freedom\n",
       "Multiple R-squared:  0.005477,\tAdjusted R-squared:  0.004754 \n",
       "F-statistic: 7.583 on 1 and 1377 DF,  p-value: 0.005971\n"
      ]
     },
     "metadata": {},
     "output_type": "display_data"
    }
   ],
   "source": [
    "summary(mod)"
   ]
  },
  {
   "cell_type": "markdown",
   "metadata": {},
   "source": [
    "Anova, si existe una diferencia significativa entre los estimadores."
   ]
  },
  {
   "cell_type": "markdown",
   "metadata": {},
   "source": [
    "se hacen los modelos con varias combinaciones y anova(mod1, mod2, mod3)"
   ]
  },
  {
   "cell_type": "code",
   "execution_count": 32,
   "metadata": {},
   "outputs": [],
   "source": [
    "library(splines)"
   ]
  },
  {
   "cell_type": "code",
   "execution_count": 33,
   "metadata": {},
   "outputs": [],
   "source": [
    "nsbs<-lm(earn~ns(age,knots=c(40,60)),data=wages)"
   ]
  },
  {
   "cell_type": "code",
   "execution_count": 34,
   "metadata": {},
   "outputs": [
    {
     "data": {
      "text/plain": [
       "\n",
       "Call:\n",
       "lm(formula = earn ~ ns(age, knots = c(40, 60)), data = wages)\n",
       "\n",
       "Coefficients:\n",
       "                (Intercept)  ns(age, knots = c(40, 60))1  \n",
       "                       8193                         3172  \n",
       "ns(age, knots = c(40, 60))2  ns(age, knots = c(40, 60))3  \n",
       "                      55740                        -1693  \n"
      ]
     },
     "metadata": {},
     "output_type": "display_data"
    }
   ],
   "source": [
    "nsbs"
   ]
  },
  {
   "cell_type": "code",
   "execution_count": 35,
   "metadata": {},
   "outputs": [
    {
     "data": {
      "text/plain": [
       "\n",
       "Call:\n",
       "lm(formula = earn ~ ns(age, knots = c(40, 60)), data = wages)\n",
       "\n",
       "Residuals:\n",
       "   Min     1Q Median     3Q    Max \n",
       "-40594 -18465  -4653  11803 279721 \n",
       "\n",
       "Coefficients:\n",
       "                            Estimate Std. Error t value Pr(>|t|)    \n",
       "(Intercept)                     8193       2608   3.142  0.00172 ** \n",
       "ns(age, knots = c(40, 60))1     3172       4110   0.772  0.44036    \n",
       "ns(age, knots = c(40, 60))2    55740       7428   7.504 1.11e-13 ***\n",
       "ns(age, knots = c(40, 60))3    -1693       6520  -0.260  0.79522    \n",
       "---\n",
       "Signif. codes:  0 ‘***’ 0.001 ‘**’ 0.01 ‘*’ 0.05 ‘.’ 0.1 ‘ ’ 1\n",
       "\n",
       "Residual standard error: 30160 on 1375 degrees of freedom\n",
       "Multiple R-squared:  0.0712,\tAdjusted R-squared:  0.06917 \n",
       "F-statistic: 35.13 on 3 and 1375 DF,  p-value: < 2.2e-16\n"
      ]
     },
     "metadata": {},
     "output_type": "display_data"
    }
   ],
   "source": [
    "summary(nsbs)"
   ]
  },
  {
   "cell_type": "code",
   "execution_count": null,
   "metadata": {},
   "outputs": [],
   "source": []
  }
 ],
 "metadata": {
  "kernelspec": {
   "display_name": "R",
   "language": "R",
   "name": "ir"
  },
  "language_info": {
   "codemirror_mode": "r",
   "file_extension": ".r",
   "mimetype": "text/x-r-source",
   "name": "R",
   "pygments_lexer": "r",
   "version": "3.4.4"
  }
 },
 "nbformat": 4,
 "nbformat_minor": 2
}
