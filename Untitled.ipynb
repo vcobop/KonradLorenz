{
 "cells": [
  {
   "cell_type": "code",
   "execution_count": 1,
   "metadata": {},
   "outputs": [],
   "source": [
    "library(repr)"
   ]
  },
  {
   "cell_type": "code",
   "execution_count": 2,
   "metadata": {},
   "outputs": [
    {
     "ename": "ERROR",
     "evalue": "Error in eval(expr, envir, enclos): object 'a' not found\n",
     "output_type": "error",
     "traceback": [
      "Error in eval(expr, envir, enclos): object 'a' not found\nTraceback:\n"
     ]
    }
   ],
   "source": [
    "a"
   ]
  },
  {
   "cell_type": "code",
   "execution_count": 4,
   "metadata": {},
   "outputs": [],
   "source": [
    "a<-c(\"p\",\"a\",\"c\",\"o\")"
   ]
  },
  {
   "cell_type": "code",
   "execution_count": 5,
   "metadata": {},
   "outputs": [
    {
     "data": {
      "text/html": [
       "<ol class=list-inline>\n",
       "\t<li>'p'</li>\n",
       "\t<li>'a'</li>\n",
       "\t<li>'c'</li>\n",
       "\t<li>'o'</li>\n",
       "</ol>\n"
      ],
      "text/latex": [
       "\\begin{enumerate*}\n",
       "\\item 'p'\n",
       "\\item 'a'\n",
       "\\item 'c'\n",
       "\\item 'o'\n",
       "\\end{enumerate*}\n"
      ],
      "text/markdown": [
       "1. 'p'\n",
       "2. 'a'\n",
       "3. 'c'\n",
       "4. 'o'\n",
       "\n",
       "\n"
      ],
      "text/plain": [
       "[1] \"p\" \"a\" \"c\" \"o\""
      ]
     },
     "metadata": {},
     "output_type": "display_data"
    }
   ],
   "source": [
    "a"
   ]
  },
  {
   "cell_type": "code",
   "execution_count": 6,
   "metadata": {},
   "outputs": [],
   "source": [
    "a=c(a,\"j\",\"a\",\"m\",\"o\",\"n\")"
   ]
  },
  {
   "cell_type": "code",
   "execution_count": 7,
   "metadata": {},
   "outputs": [
    {
     "data": {
      "text/html": [
       "<ol class=list-inline>\n",
       "\t<li>'p'</li>\n",
       "\t<li>'a'</li>\n",
       "\t<li>'c'</li>\n",
       "\t<li>'o'</li>\n",
       "\t<li>'j'</li>\n",
       "\t<li>'a'</li>\n",
       "\t<li>'m'</li>\n",
       "\t<li>'o'</li>\n",
       "\t<li>'n'</li>\n",
       "</ol>\n"
      ],
      "text/latex": [
       "\\begin{enumerate*}\n",
       "\\item 'p'\n",
       "\\item 'a'\n",
       "\\item 'c'\n",
       "\\item 'o'\n",
       "\\item 'j'\n",
       "\\item 'a'\n",
       "\\item 'm'\n",
       "\\item 'o'\n",
       "\\item 'n'\n",
       "\\end{enumerate*}\n"
      ],
      "text/markdown": [
       "1. 'p'\n",
       "2. 'a'\n",
       "3. 'c'\n",
       "4. 'o'\n",
       "5. 'j'\n",
       "6. 'a'\n",
       "7. 'm'\n",
       "8. 'o'\n",
       "9. 'n'\n",
       "\n",
       "\n"
      ],
      "text/plain": [
       "[1] \"p\" \"a\" \"c\" \"o\" \"j\" \"a\" \"m\" \"o\" \"n\""
      ]
     },
     "metadata": {},
     "output_type": "display_data"
    }
   ],
   "source": [
    "a"
   ]
  },
  {
   "cell_type": "code",
   "execution_count": 8,
   "metadata": {},
   "outputs": [
    {
     "ename": "ERROR",
     "evalue": "Error in a + \"j\": non-numeric argument to binary operator\n",
     "output_type": "error",
     "traceback": [
      "Error in a + \"j\": non-numeric argument to binary operator\nTraceback:\n"
     ]
    }
   ],
   "source": [
    "a+\"j\""
   ]
  },
  {
   "cell_type": "code",
   "execution_count": 9,
   "metadata": {},
   "outputs": [
    {
     "data": {
      "text/html": [
       "<ol class=list-inline>\n",
       "\t<li>0</li>\n",
       "\t<li>0</li>\n",
       "\t<li>0</li>\n",
       "\t<li>0</li>\n",
       "\t<li>0</li>\n",
       "\t<li>0</li>\n",
       "\t<li>0</li>\n",
       "\t<li>0</li>\n",
       "\t<li>0</li>\n",
       "\t<li>0</li>\n",
       "</ol>\n"
      ],
      "text/latex": [
       "\\begin{enumerate*}\n",
       "\\item 0\n",
       "\\item 0\n",
       "\\item 0\n",
       "\\item 0\n",
       "\\item 0\n",
       "\\item 0\n",
       "\\item 0\n",
       "\\item 0\n",
       "\\item 0\n",
       "\\item 0\n",
       "\\end{enumerate*}\n"
      ],
      "text/markdown": [
       "1. 0\n",
       "2. 0\n",
       "3. 0\n",
       "4. 0\n",
       "5. 0\n",
       "6. 0\n",
       "7. 0\n",
       "8. 0\n",
       "9. 0\n",
       "10. 0\n",
       "\n",
       "\n"
      ],
      "text/plain": [
       " [1] 0 0 0 0 0 0 0 0 0 0"
      ]
     },
     "metadata": {},
     "output_type": "display_data"
    }
   ],
   "source": [
    "(sample.int(1,size=10,replace=TRUE)-1)/10"
   ]
  },
  {
   "cell_type": "code",
   "execution_count": 10,
   "metadata": {},
   "outputs": [
    {
     "data": {
      "text/html": [
       "<ol class=list-inline>\n",
       "\t<li>0.57</li>\n",
       "\t<li>0.41</li>\n",
       "\t<li>0.3</li>\n",
       "\t<li>0.74</li>\n",
       "\t<li>0.54</li>\n",
       "\t<li>0.35</li>\n",
       "\t<li>0.07</li>\n",
       "\t<li>0.34</li>\n",
       "\t<li>0.77</li>\n",
       "\t<li>1</li>\n",
       "\t<li>0.19</li>\n",
       "\t<li>0.1</li>\n",
       "\t<li>0.58</li>\n",
       "\t<li>0.2</li>\n",
       "\t<li>0.89</li>\n",
       "\t<li>0.26</li>\n",
       "\t<li>0.96</li>\n",
       "\t<li>0.86</li>\n",
       "\t<li>0.25</li>\n",
       "\t<li>0.83</li>\n",
       "\t<li>0.68</li>\n",
       "\t<li>0.7</li>\n",
       "\t<li>0</li>\n",
       "\t<li>0.64</li>\n",
       "\t<li>0.81</li>\n",
       "\t<li>0.44</li>\n",
       "\t<li>0.8</li>\n",
       "\t<li>0.85</li>\n",
       "\t<li>0.74</li>\n",
       "\t<li>0.9</li>\n",
       "\t<li>0.87</li>\n",
       "\t<li>0.85</li>\n",
       "\t<li>0.44</li>\n",
       "\t<li>0.73</li>\n",
       "\t<li>0.98</li>\n",
       "\t<li>0.48</li>\n",
       "\t<li>0.49</li>\n",
       "\t<li>0.16</li>\n",
       "\t<li>0.94</li>\n",
       "\t<li>0.8</li>\n",
       "\t<li>0.57</li>\n",
       "\t<li>0.75</li>\n",
       "\t<li>0.86</li>\n",
       "\t<li>0.65</li>\n",
       "\t<li>0.52</li>\n",
       "\t<li>0.5</li>\n",
       "\t<li>0.37</li>\n",
       "\t<li>0.48</li>\n",
       "\t<li>0.45</li>\n",
       "\t<li>0.19</li>\n",
       "\t<li>0.7</li>\n",
       "\t<li>0.13</li>\n",
       "\t<li>0.02</li>\n",
       "\t<li>0.39</li>\n",
       "\t<li>0.69</li>\n",
       "\t<li>0.59</li>\n",
       "\t<li>0.34</li>\n",
       "\t<li>0.56</li>\n",
       "\t<li>0.68</li>\n",
       "\t<li>0.83</li>\n",
       "\t<li>0.69</li>\n",
       "\t<li>0.98</li>\n",
       "\t<li>0.95</li>\n",
       "\t<li>0.82</li>\n",
       "\t<li>0.12</li>\n",
       "\t<li>0.94</li>\n",
       "\t<li>0.56</li>\n",
       "\t<li>0.08</li>\n",
       "\t<li>0.95</li>\n",
       "\t<li>0.51</li>\n",
       "\t<li>0.1</li>\n",
       "\t<li>0.81</li>\n",
       "\t<li>0.53</li>\n",
       "\t<li>0.52</li>\n",
       "\t<li>0.64</li>\n",
       "\t<li>0.42</li>\n",
       "\t<li>0.67</li>\n",
       "\t<li>0.07</li>\n",
       "\t<li>0.92</li>\n",
       "\t<li>0.75</li>\n",
       "\t<li>0.17</li>\n",
       "\t<li>0.99</li>\n",
       "\t<li>0.1</li>\n",
       "\t<li>0.63</li>\n",
       "\t<li>0.66</li>\n",
       "\t<li>0.59</li>\n",
       "\t<li>0.85</li>\n",
       "\t<li>0.82</li>\n",
       "\t<li>0.27</li>\n",
       "\t<li>0.16</li>\n",
       "\t<li>0.04</li>\n",
       "\t<li>0.54</li>\n",
       "\t<li>0.77</li>\n",
       "\t<li>0.92</li>\n",
       "\t<li>0.68</li>\n",
       "\t<li>0.82</li>\n",
       "\t<li>0.46</li>\n",
       "\t<li>0.28</li>\n",
       "\t<li>0.8</li>\n",
       "\t<li>0.88</li>\n",
       "</ol>\n"
      ],
      "text/latex": [
       "\\begin{enumerate*}\n",
       "\\item 0.57\n",
       "\\item 0.41\n",
       "\\item 0.3\n",
       "\\item 0.74\n",
       "\\item 0.54\n",
       "\\item 0.35\n",
       "\\item 0.07\n",
       "\\item 0.34\n",
       "\\item 0.77\n",
       "\\item 1\n",
       "\\item 0.19\n",
       "\\item 0.1\n",
       "\\item 0.58\n",
       "\\item 0.2\n",
       "\\item 0.89\n",
       "\\item 0.26\n",
       "\\item 0.96\n",
       "\\item 0.86\n",
       "\\item 0.25\n",
       "\\item 0.83\n",
       "\\item 0.68\n",
       "\\item 0.7\n",
       "\\item 0\n",
       "\\item 0.64\n",
       "\\item 0.81\n",
       "\\item 0.44\n",
       "\\item 0.8\n",
       "\\item 0.85\n",
       "\\item 0.74\n",
       "\\item 0.9\n",
       "\\item 0.87\n",
       "\\item 0.85\n",
       "\\item 0.44\n",
       "\\item 0.73\n",
       "\\item 0.98\n",
       "\\item 0.48\n",
       "\\item 0.49\n",
       "\\item 0.16\n",
       "\\item 0.94\n",
       "\\item 0.8\n",
       "\\item 0.57\n",
       "\\item 0.75\n",
       "\\item 0.86\n",
       "\\item 0.65\n",
       "\\item 0.52\n",
       "\\item 0.5\n",
       "\\item 0.37\n",
       "\\item 0.48\n",
       "\\item 0.45\n",
       "\\item 0.19\n",
       "\\item 0.7\n",
       "\\item 0.13\n",
       "\\item 0.02\n",
       "\\item 0.39\n",
       "\\item 0.69\n",
       "\\item 0.59\n",
       "\\item 0.34\n",
       "\\item 0.56\n",
       "\\item 0.68\n",
       "\\item 0.83\n",
       "\\item 0.69\n",
       "\\item 0.98\n",
       "\\item 0.95\n",
       "\\item 0.82\n",
       "\\item 0.12\n",
       "\\item 0.94\n",
       "\\item 0.56\n",
       "\\item 0.08\n",
       "\\item 0.95\n",
       "\\item 0.51\n",
       "\\item 0.1\n",
       "\\item 0.81\n",
       "\\item 0.53\n",
       "\\item 0.52\n",
       "\\item 0.64\n",
       "\\item 0.42\n",
       "\\item 0.67\n",
       "\\item 0.07\n",
       "\\item 0.92\n",
       "\\item 0.75\n",
       "\\item 0.17\n",
       "\\item 0.99\n",
       "\\item 0.1\n",
       "\\item 0.63\n",
       "\\item 0.66\n",
       "\\item 0.59\n",
       "\\item 0.85\n",
       "\\item 0.82\n",
       "\\item 0.27\n",
       "\\item 0.16\n",
       "\\item 0.04\n",
       "\\item 0.54\n",
       "\\item 0.77\n",
       "\\item 0.92\n",
       "\\item 0.68\n",
       "\\item 0.82\n",
       "\\item 0.46\n",
       "\\item 0.28\n",
       "\\item 0.8\n",
       "\\item 0.88\n",
       "\\end{enumerate*}\n"
      ],
      "text/markdown": [
       "1. 0.57\n",
       "2. 0.41\n",
       "3. 0.3\n",
       "4. 0.74\n",
       "5. 0.54\n",
       "6. 0.35\n",
       "7. 0.07\n",
       "8. 0.34\n",
       "9. 0.77\n",
       "10. 1\n",
       "11. 0.19\n",
       "12. 0.1\n",
       "13. 0.58\n",
       "14. 0.2\n",
       "15. 0.89\n",
       "16. 0.26\n",
       "17. 0.96\n",
       "18. 0.86\n",
       "19. 0.25\n",
       "20. 0.83\n",
       "21. 0.68\n",
       "22. 0.7\n",
       "23. 0\n",
       "24. 0.64\n",
       "25. 0.81\n",
       "26. 0.44\n",
       "27. 0.8\n",
       "28. 0.85\n",
       "29. 0.74\n",
       "30. 0.9\n",
       "31. 0.87\n",
       "32. 0.85\n",
       "33. 0.44\n",
       "34. 0.73\n",
       "35. 0.98\n",
       "36. 0.48\n",
       "37. 0.49\n",
       "38. 0.16\n",
       "39. 0.94\n",
       "40. 0.8\n",
       "41. 0.57\n",
       "42. 0.75\n",
       "43. 0.86\n",
       "44. 0.65\n",
       "45. 0.52\n",
       "46. 0.5\n",
       "47. 0.37\n",
       "48. 0.48\n",
       "49. 0.45\n",
       "50. 0.19\n",
       "51. 0.7\n",
       "52. 0.13\n",
       "53. 0.02\n",
       "54. 0.39\n",
       "55. 0.69\n",
       "56. 0.59\n",
       "57. 0.34\n",
       "58. 0.56\n",
       "59. 0.68\n",
       "60. 0.83\n",
       "61. 0.69\n",
       "62. 0.98\n",
       "63. 0.95\n",
       "64. 0.82\n",
       "65. 0.12\n",
       "66. 0.94\n",
       "67. 0.56\n",
       "68. 0.08\n",
       "69. 0.95\n",
       "70. 0.51\n",
       "71. 0.1\n",
       "72. 0.81\n",
       "73. 0.53\n",
       "74. 0.52\n",
       "75. 0.64\n",
       "76. 0.42\n",
       "77. 0.67\n",
       "78. 0.07\n",
       "79. 0.92\n",
       "80. 0.75\n",
       "81. 0.17\n",
       "82. 0.99\n",
       "83. 0.1\n",
       "84. 0.63\n",
       "85. 0.66\n",
       "86. 0.59\n",
       "87. 0.85\n",
       "88. 0.82\n",
       "89. 0.27\n",
       "90. 0.16\n",
       "91. 0.04\n",
       "92. 0.54\n",
       "93. 0.77\n",
       "94. 0.92\n",
       "95. 0.68\n",
       "96. 0.82\n",
       "97. 0.46\n",
       "98. 0.28\n",
       "99. 0.8\n",
       "100. 0.88\n",
       "\n",
       "\n"
      ],
      "text/plain": [
       "  [1] 0.57 0.41 0.30 0.74 0.54 0.35 0.07 0.34 0.77 1.00 0.19 0.10 0.58 0.20 0.89\n",
       " [16] 0.26 0.96 0.86 0.25 0.83 0.68 0.70 0.00 0.64 0.81 0.44 0.80 0.85 0.74 0.90\n",
       " [31] 0.87 0.85 0.44 0.73 0.98 0.48 0.49 0.16 0.94 0.80 0.57 0.75 0.86 0.65 0.52\n",
       " [46] 0.50 0.37 0.48 0.45 0.19 0.70 0.13 0.02 0.39 0.69 0.59 0.34 0.56 0.68 0.83\n",
       " [61] 0.69 0.98 0.95 0.82 0.12 0.94 0.56 0.08 0.95 0.51 0.10 0.81 0.53 0.52 0.64\n",
       " [76] 0.42 0.67 0.07 0.92 0.75 0.17 0.99 0.10 0.63 0.66 0.59 0.85 0.82 0.27 0.16\n",
       " [91] 0.04 0.54 0.77 0.92 0.68 0.82 0.46 0.28 0.80 0.88"
      ]
     },
     "metadata": {},
     "output_type": "display_data"
    }
   ],
   "source": [
    "round(runif(100,0,1), 2)"
   ]
  },
  {
   "cell_type": "code",
   "execution_count": 17,
   "metadata": {},
   "outputs": [
    {
     "data": {
      "text/html": [
       "FALSE"
      ],
      "text/latex": [
       "FALSE"
      ],
      "text/markdown": [
       "FALSE"
      ],
      "text/plain": [
       "[1] FALSE"
      ]
     },
     "metadata": {},
     "output_type": "display_data"
    }
   ],
   "source": [
    "p<-0.5\n",
    "U<-runif(1,min=0,max=1)\n",
    "x<-U<p\n",
    "x"
   ]
  },
  {
   "cell_type": "code",
   "execution_count": null,
   "metadata": {},
   "outputs": [],
   "source": []
  },
  {
   "cell_type": "code",
   "execution_count": 24,
   "metadata": {},
   "outputs": [
    {
     "data": {
      "text/html": [
       "2"
      ],
      "text/latex": [
       "2"
      ],
      "text/markdown": [
       "2"
      ],
      "text/plain": [
       "[1] 2"
      ]
     },
     "metadata": {},
     "output_type": "display_data"
    }
   ],
   "source": [
    "a<-0\n",
    "p<-0.5\n",
    "U<-runif(1,min=0,max=1)\n",
    "x<-U<p\n",
    "a<-a+x\n",
    "x+1"
   ]
  },
  {
   "cell_type": "markdown",
   "metadata": {},
   "source": [
    " "
   ]
  },
  {
   "cell_type": "code",
   "execution_count": 33,
   "metadata": {},
   "outputs": [],
   "source": [
    "n<-100\n",
    "a<-0\n",
    "p<-0.5\n",
    "f<-numeric(n)\n",
    "for(i in 1:n)\n",
    "{\n",
    "        u<-runif(1,min=0,max=1)\n",
    "        x<-u<p\n",
    "        a<-a+x\n",
    "        f[i]<-a/i\n",
    "}"
   ]
  },
  {
   "cell_type": "code",
   "execution_count": 36,
   "metadata": {},
   "outputs": [
    {
     "data": {
      "image/png": "[encoded data removed]",
      "text/plain": [
       "plot without title"
      ]
     },
     "metadata": {},
     "output_type": "display_data"
    }
   ],
   "source": [
    "options(repr.plot.width=3,repr.plot.height=3)\n",
    "plot(1:n,f)"
   ]
  },
  {
   "cell_type": "code",
   "execution_count": 39,
   "metadata": {},
   "outputs": [
    {
     "data": {
      "text/html": [
       "11"
      ],
      "text/latex": [
       "11"
      ],
      "text/markdown": [
       "11"
      ],
      "text/plain": [
       "[1] 11"
      ]
     },
     "metadata": {},
     "output_type": "display_data"
    }
   ],
   "source": [
    "p<-0.2 #numero de numeros que pasan\n",
    "n<-50 #numero de numeros en el test\n",
    "U<-runif(n,min=0,max=1) #numeros aleatorios uniformes\n",
    "x<-sum(U<p) #se evalua la condicion\n",
    "x #la suma de los numeros que pasan el test"
   ]
  },
  {
   "cell_type": "code",
   "execution_count": 49,
   "metadata": {},
   "outputs": [],
   "source": [
    "p<-0.2\n",
    "n<-50\n",
    "m<-10000\n",
    "f<-numeric(m)\n",
    "for(i in 1:m)\n",
    "    {\n",
    "    U<-runif(n,min=0,max=1)\n",
    "    x<-sum(U<p) #x es numero de exitos y su probabilidad\n",
    "    f[i]<-x\n",
    "    }"
   ]
  },
  {
   "cell_type": "code",
   "execution_count": 50,
   "metadata": {},
   "outputs": [
    {
     "data": {
      "text/html": [
       "9.9935"
      ],
      "text/latex": [
       "9.9935"
      ],
      "text/markdown": [
       "9.9935"
      ],
      "text/plain": [
       "[1] 9.9935"
      ]
     },
     "metadata": {},
     "output_type": "display_data"
    },
    {
     "data": {
      "image/png": "[encoded data removed]",
      "text/plain": [
       "Plot with title “Histogram of f”"
      ]
     },
     "metadata": {},
     "output_type": "display_data"
    }
   ],
   "source": [
    "hist(f,freq = F)\n",
    "mean(f)\n"
   ]
  },
  {
   "cell_type": "code",
   "execution_count": 52,
   "metadata": {},
   "outputs": [
    {
     "data": {
      "image/png": "[encoded data removed]",
      "text/plain": [
       "plot without title"
      ]
     },
     "metadata": {},
     "output_type": "display_data"
    }
   ],
   "source": [
    "n=100\n",
    "curve(dbinom(x,n,p),0,n)"
   ]
  },
  {
   "cell_type": "code",
   "execution_count": null,
   "metadata": {},
   "outputs": [],
   "source": []
  },
  {
   "cell_type": "code",
   "execution_count": null,
   "metadata": {},
   "outputs": [],
   "source": []
  },
  {
   "cell_type": "code",
   "execution_count": 53,
   "metadata": {},
   "outputs": [
    {
     "ename": "ERROR",
     "evalue": "Error in eval(expr, envir, enclos): object 'h' not found\n",
     "output_type": "error",
     "traceback": [
      "Error in eval(expr, envir, enclos): object 'h' not found\nTraceback:\n"
     ]
    }
   ],
   "source": [
    "h"
   ]
  },
  {
   "cell_type": "code",
   "execution_count": 54,
   "metadata": {},
   "outputs": [
    {
     "data": {
      "text/html": [
       "100"
      ],
      "text/latex": [
       "100"
      ],
      "text/markdown": [
       "100"
      ],
      "text/plain": [
       "[1] 100"
      ]
     },
     "metadata": {},
     "output_type": "display_data"
    }
   ],
   "source": [
    "n\n"
   ]
  },
  {
   "cell_type": "code",
   "execution_count": 55,
   "metadata": {},
   "outputs": [
    {
     "data": {
      "text/html": [
       "100"
      ],
      "text/latex": [
       "100"
      ],
      "text/markdown": [
       "100"
      ],
      "text/plain": [
       "[1] 100"
      ]
     },
     "metadata": {},
     "output_type": "display_data"
    }
   ],
   "source": [
    "n"
   ]
  },
  {
   "cell_type": "code",
   "execution_count": 56,
   "metadata": {},
   "outputs": [
    {
     "data": {
      "text/html": [
       "9"
      ],
      "text/latex": [
       "9"
      ],
      "text/markdown": [
       "9"
      ],
      "text/plain": [
       "[1] 9"
      ]
     },
     "metadata": {},
     "output_type": "display_data"
    }
   ],
   "source": [
    "x"
   ]
  },
  {
   "cell_type": "code",
   "execution_count": 65,
   "metadata": {},
   "outputs": [
    {
     "data": {
      "text/html": [
       "100"
      ],
      "text/latex": [
       "100"
      ],
      "text/markdown": [
       "100"
      ],
      "text/plain": [
       "[1] 100"
      ]
     },
     "metadata": {},
     "output_type": "display_data"
    }
   ],
   "source": [
    "n"
   ]
  },
  {
   "cell_type": "code",
   "execution_count": 58,
   "metadata": {},
   "outputs": [
    {
     "data": {
      "text/html": [
       "9"
      ],
      "text/latex": [
       "9"
      ],
      "text/markdown": [
       "9"
      ],
      "text/plain": [
       "[1] 9"
      ]
     },
     "metadata": {},
     "output_type": "display_data"
    }
   ],
   "source": [
    "x"
   ]
  },
  {
   "cell_type": "code",
   "execution_count": 83,
   "metadata": {
    "scrolled": true
   },
   "outputs": [
    {
     "data": {
      "image/png": "[encoded data removed]",
      "text/plain": [
       "Plot with title “Histogram of x”"
      ]
     },
     "metadata": {},
     "output_type": "display_data"
    }
   ],
   "source": [
    "U<-runif(10000,min=0,max=1)\n",
    "x<- -log(U)\n",
    "hist(x, freq=F,breaks=50)\n",
    "curve(dexp(x,1),0,7,add=T)"
   ]
  },
  {
   "cell_type": "code",
   "execution_count": null,
   "metadata": {},
   "outputs": [],
   "source": []
  }
 ],
 "metadata": {
  "kernelspec": {
   "display_name": "R",
   "language": "R",
   "name": "ir"
  },
  "language_info": {
   "codemirror_mode": "r",
   "file_extension": ".r",
   "mimetype": "text/x-r-source",
   "name": "R",
   "pygments_lexer": "r",
   "version": "3.4.4"
  }
 },
 "nbformat": 4,
 "nbformat_minor": 2
}
